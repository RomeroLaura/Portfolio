{
 "cells": [
  {
   "cell_type": "code",
   "execution_count": 1,
   "metadata": {},
   "outputs": [],
   "source": [
    "import numpy as np\n",
    "import pandas as pd\n",
    "import seaborn as sns"
   ]
  },
  {
   "cell_type": "code",
   "execution_count": 2,
   "metadata": {},
   "outputs": [],
   "source": [
    "df = pd.read_csv(\"Data/train.csv\")"
   ]
  },
  {
   "cell_type": "code",
   "execution_count": 3,
   "metadata": {},
   "outputs": [
    {
     "data": {
      "text/plain": [
       "Index(['PassengerId', 'Survived', 'Pclass', 'Name', 'Sex', 'Age', 'SibSp',\n",
       "       'Parch', 'Ticket', 'Fare', 'Cabin', 'Embarked'],\n",
       "      dtype='object')"
      ]
     },
     "execution_count": 3,
     "metadata": {},
     "output_type": "execute_result"
    }
   ],
   "source": [
    "df.columns"
   ]
  },
  {
   "cell_type": "code",
   "execution_count": 4,
   "metadata": {},
   "outputs": [],
   "source": [
    "#Today we will be binning the data so lets look at the spread"
   ]
  },
  {
   "cell_type": "code",
   "execution_count": 5,
   "metadata": {},
   "outputs": [
    {
     "data": {
      "text/html": [
       "<div>\n",
       "<style scoped>\n",
       "    .dataframe tbody tr th:only-of-type {\n",
       "        vertical-align: middle;\n",
       "    }\n",
       "\n",
       "    .dataframe tbody tr th {\n",
       "        vertical-align: top;\n",
       "    }\n",
       "\n",
       "    .dataframe thead th {\n",
       "        text-align: right;\n",
       "    }\n",
       "</style>\n",
       "<table border=\"1\" class=\"dataframe\">\n",
       "  <thead>\n",
       "    <tr style=\"text-align: right;\">\n",
       "      <th></th>\n",
       "      <th>Name</th>\n",
       "      <th>Sex</th>\n",
       "      <th>Ticket</th>\n",
       "      <th>Cabin</th>\n",
       "      <th>Embarked</th>\n",
       "    </tr>\n",
       "  </thead>\n",
       "  <tbody>\n",
       "    <tr>\n",
       "      <th>count</th>\n",
       "      <td>891</td>\n",
       "      <td>891</td>\n",
       "      <td>891</td>\n",
       "      <td>204</td>\n",
       "      <td>889</td>\n",
       "    </tr>\n",
       "    <tr>\n",
       "      <th>unique</th>\n",
       "      <td>891</td>\n",
       "      <td>2</td>\n",
       "      <td>681</td>\n",
       "      <td>147</td>\n",
       "      <td>3</td>\n",
       "    </tr>\n",
       "    <tr>\n",
       "      <th>top</th>\n",
       "      <td>Connors, Mr. Patrick</td>\n",
       "      <td>male</td>\n",
       "      <td>1601</td>\n",
       "      <td>G6</td>\n",
       "      <td>S</td>\n",
       "    </tr>\n",
       "    <tr>\n",
       "      <th>freq</th>\n",
       "      <td>1</td>\n",
       "      <td>577</td>\n",
       "      <td>7</td>\n",
       "      <td>4</td>\n",
       "      <td>644</td>\n",
       "    </tr>\n",
       "  </tbody>\n",
       "</table>\n",
       "</div>"
      ],
      "text/plain": [
       "                        Name   Sex Ticket Cabin Embarked\n",
       "count                    891   891    891   204      889\n",
       "unique                   891     2    681   147        3\n",
       "top     Connors, Mr. Patrick  male   1601    G6        S\n",
       "freq                       1   577      7     4      644"
      ]
     },
     "execution_count": 5,
     "metadata": {},
     "output_type": "execute_result"
    }
   ],
   "source": [
    "df.describe(include='O')"
   ]
  },
  {
   "cell_type": "code",
   "execution_count": 6,
   "metadata": {},
   "outputs": [],
   "source": [
    "df = df.drop([\"Cabin\"], axis = 1)"
   ]
  },
  {
   "cell_type": "code",
   "execution_count": 7,
   "metadata": {},
   "outputs": [],
   "source": [
    "df = df.drop([\"Name\"], axis = 1)"
   ]
  },
  {
   "cell_type": "code",
   "execution_count": 8,
   "metadata": {},
   "outputs": [
    {
     "data": {
      "text/html": [
       "<div>\n",
       "<style scoped>\n",
       "    .dataframe tbody tr th:only-of-type {\n",
       "        vertical-align: middle;\n",
       "    }\n",
       "\n",
       "    .dataframe tbody tr th {\n",
       "        vertical-align: top;\n",
       "    }\n",
       "\n",
       "    .dataframe thead th {\n",
       "        text-align: right;\n",
       "    }\n",
       "</style>\n",
       "<table border=\"1\" class=\"dataframe\">\n",
       "  <thead>\n",
       "    <tr style=\"text-align: right;\">\n",
       "      <th></th>\n",
       "      <th>Sex</th>\n",
       "      <th>Ticket</th>\n",
       "      <th>Embarked</th>\n",
       "    </tr>\n",
       "  </thead>\n",
       "  <tbody>\n",
       "    <tr>\n",
       "      <th>count</th>\n",
       "      <td>891</td>\n",
       "      <td>891</td>\n",
       "      <td>889</td>\n",
       "    </tr>\n",
       "    <tr>\n",
       "      <th>unique</th>\n",
       "      <td>2</td>\n",
       "      <td>681</td>\n",
       "      <td>3</td>\n",
       "    </tr>\n",
       "    <tr>\n",
       "      <th>top</th>\n",
       "      <td>male</td>\n",
       "      <td>1601</td>\n",
       "      <td>S</td>\n",
       "    </tr>\n",
       "    <tr>\n",
       "      <th>freq</th>\n",
       "      <td>577</td>\n",
       "      <td>7</td>\n",
       "      <td>644</td>\n",
       "    </tr>\n",
       "  </tbody>\n",
       "</table>\n",
       "</div>"
      ],
      "text/plain": [
       "         Sex Ticket Embarked\n",
       "count    891    891      889\n",
       "unique     2    681        3\n",
       "top     male   1601        S\n",
       "freq     577      7      644"
      ]
     },
     "execution_count": 8,
     "metadata": {},
     "output_type": "execute_result"
    }
   ],
   "source": [
    "df.describe(include='O')"
   ]
  },
  {
   "cell_type": "code",
   "execution_count": 9,
   "metadata": {},
   "outputs": [
    {
     "data": {
      "image/png": "[encoded data removed]",
      "text/plain": [
       "<Figure size 432x288 with 1 Axes>"
      ]
     },
     "metadata": {
      "needs_background": "light"
     },
     "output_type": "display_data"
    }
   ],
   "source": [
    "sns.countplot(y=\"Sex\", data=df);"
   ]
  },
  {
   "cell_type": "code",
   "execution_count": 10,
   "metadata": {},
   "outputs": [],
   "source": [
    "df = df.drop(\"Ticket\", axis = 1)"
   ]
  },
  {
   "cell_type": "code",
   "execution_count": 11,
   "metadata": {},
   "outputs": [
    {
     "data": {
      "text/plain": [
       "<matplotlib.axes._subplots.AxesSubplot at 0x2a395319fd0>"
      ]
     },
     "execution_count": 11,
     "metadata": {},
     "output_type": "execute_result"
    },
    {
     "data": {
      "image/png": "[encoded data removed]",
      "text/plain": [
       "<Figure size 432x288 with 1 Axes>"
      ]
     },
     "metadata": {
      "needs_background": "light"
     },
     "output_type": "display_data"
    }
   ],
   "source": [
    "sns.countplot(\"Embarked\", data = df)"
   ]
  },
  {
   "cell_type": "code",
   "execution_count": 12,
   "metadata": {},
   "outputs": [
    {
     "data": {
      "text/html": [
       "<div>\n",
       "<style scoped>\n",
       "    .dataframe tbody tr th:only-of-type {\n",
       "        vertical-align: middle;\n",
       "    }\n",
       "\n",
       "    .dataframe tbody tr th {\n",
       "        vertical-align: top;\n",
       "    }\n",
       "\n",
       "    .dataframe thead th {\n",
       "        text-align: right;\n",
       "    }\n",
       "</style>\n",
       "<table border=\"1\" class=\"dataframe\">\n",
       "  <thead>\n",
       "    <tr style=\"text-align: right;\">\n",
       "      <th></th>\n",
       "      <th>PassengerId</th>\n",
       "      <th>Survived</th>\n",
       "      <th>Pclass</th>\n",
       "      <th>Age</th>\n",
       "      <th>SibSp</th>\n",
       "      <th>Parch</th>\n",
       "      <th>Fare</th>\n",
       "    </tr>\n",
       "  </thead>\n",
       "  <tbody>\n",
       "    <tr>\n",
       "      <th>count</th>\n",
       "      <td>891.000000</td>\n",
       "      <td>891.000000</td>\n",
       "      <td>891.000000</td>\n",
       "      <td>714.000000</td>\n",
       "      <td>891.000000</td>\n",
       "      <td>891.000000</td>\n",
       "      <td>891.000000</td>\n",
       "    </tr>\n",
       "    <tr>\n",
       "      <th>mean</th>\n",
       "      <td>446.000000</td>\n",
       "      <td>0.383838</td>\n",
       "      <td>2.308642</td>\n",
       "      <td>29.699118</td>\n",
       "      <td>0.523008</td>\n",
       "      <td>0.381594</td>\n",
       "      <td>32.204208</td>\n",
       "    </tr>\n",
       "    <tr>\n",
       "      <th>std</th>\n",
       "      <td>257.353842</td>\n",
       "      <td>0.486592</td>\n",
       "      <td>0.836071</td>\n",
       "      <td>14.526497</td>\n",
       "      <td>1.102743</td>\n",
       "      <td>0.806057</td>\n",
       "      <td>49.693429</td>\n",
       "    </tr>\n",
       "    <tr>\n",
       "      <th>min</th>\n",
       "      <td>1.000000</td>\n",
       "      <td>0.000000</td>\n",
       "      <td>1.000000</td>\n",
       "      <td>0.420000</td>\n",
       "      <td>0.000000</td>\n",
       "      <td>0.000000</td>\n",
       "      <td>0.000000</td>\n",
       "    </tr>\n",
       "    <tr>\n",
       "      <th>25%</th>\n",
       "      <td>223.500000</td>\n",
       "      <td>0.000000</td>\n",
       "      <td>2.000000</td>\n",
       "      <td>20.125000</td>\n",
       "      <td>0.000000</td>\n",
       "      <td>0.000000</td>\n",
       "      <td>7.910400</td>\n",
       "    </tr>\n",
       "    <tr>\n",
       "      <th>50%</th>\n",
       "      <td>446.000000</td>\n",
       "      <td>0.000000</td>\n",
       "      <td>3.000000</td>\n",
       "      <td>28.000000</td>\n",
       "      <td>0.000000</td>\n",
       "      <td>0.000000</td>\n",
       "      <td>14.454200</td>\n",
       "    </tr>\n",
       "    <tr>\n",
       "      <th>75%</th>\n",
       "      <td>668.500000</td>\n",
       "      <td>1.000000</td>\n",
       "      <td>3.000000</td>\n",
       "      <td>38.000000</td>\n",
       "      <td>1.000000</td>\n",
       "      <td>0.000000</td>\n",
       "      <td>31.000000</td>\n",
       "    </tr>\n",
       "    <tr>\n",
       "      <th>max</th>\n",
       "      <td>891.000000</td>\n",
       "      <td>1.000000</td>\n",
       "      <td>3.000000</td>\n",
       "      <td>80.000000</td>\n",
       "      <td>8.000000</td>\n",
       "      <td>6.000000</td>\n",
       "      <td>512.329200</td>\n",
       "    </tr>\n",
       "  </tbody>\n",
       "</table>\n",
       "</div>"
      ],
      "text/plain": [
       "       PassengerId    Survived      Pclass         Age       SibSp  \\\n",
       "count   891.000000  891.000000  891.000000  714.000000  891.000000   \n",
       "mean    446.000000    0.383838    2.308642   29.699118    0.523008   \n",
       "std     257.353842    0.486592    0.836071   14.526497    1.102743   \n",
       "min       1.000000    0.000000    1.000000    0.420000    0.000000   \n",
       "25%     223.500000    0.000000    2.000000   20.125000    0.000000   \n",
       "50%     446.000000    0.000000    3.000000   28.000000    0.000000   \n",
       "75%     668.500000    1.000000    3.000000   38.000000    1.000000   \n",
       "max     891.000000    1.000000    3.000000   80.000000    8.000000   \n",
       "\n",
       "            Parch        Fare  \n",
       "count  891.000000  891.000000  \n",
       "mean     0.381594   32.204208  \n",
       "std      0.806057   49.693429  \n",
       "min      0.000000    0.000000  \n",
       "25%      0.000000    7.910400  \n",
       "50%      0.000000   14.454200  \n",
       "75%      0.000000   31.000000  \n",
       "max      6.000000  512.329200  "
      ]
     },
     "execution_count": 12,
     "metadata": {},
     "output_type": "execute_result"
    }
   ],
   "source": [
    "df.describe()"
   ]
  },
  {
   "cell_type": "code",
   "execution_count": 13,
   "metadata": {},
   "outputs": [],
   "source": [
    "df = df.drop(\"PassengerId\", axis = 1)"
   ]
  },
  {
   "cell_type": "code",
   "execution_count": 14,
   "metadata": {},
   "outputs": [
    {
     "data": {
      "text/html": [
       "<div>\n",
       "<style scoped>\n",
       "    .dataframe tbody tr th:only-of-type {\n",
       "        vertical-align: middle;\n",
       "    }\n",
       "\n",
       "    .dataframe tbody tr th {\n",
       "        vertical-align: top;\n",
       "    }\n",
       "\n",
       "    .dataframe thead th {\n",
       "        text-align: right;\n",
       "    }\n",
       "</style>\n",
       "<table border=\"1\" class=\"dataframe\">\n",
       "  <thead>\n",
       "    <tr style=\"text-align: right;\">\n",
       "      <th></th>\n",
       "      <th>Survived</th>\n",
       "      <th>Pclass</th>\n",
       "      <th>Age</th>\n",
       "      <th>SibSp</th>\n",
       "      <th>Parch</th>\n",
       "      <th>Fare</th>\n",
       "    </tr>\n",
       "  </thead>\n",
       "  <tbody>\n",
       "    <tr>\n",
       "      <th>count</th>\n",
       "      <td>891.000000</td>\n",
       "      <td>891.000000</td>\n",
       "      <td>714.000000</td>\n",
       "      <td>891.000000</td>\n",
       "      <td>891.000000</td>\n",
       "      <td>891.000000</td>\n",
       "    </tr>\n",
       "    <tr>\n",
       "      <th>mean</th>\n",
       "      <td>0.383838</td>\n",
       "      <td>2.308642</td>\n",
       "      <td>29.699118</td>\n",
       "      <td>0.523008</td>\n",
       "      <td>0.381594</td>\n",
       "      <td>32.204208</td>\n",
       "    </tr>\n",
       "    <tr>\n",
       "      <th>std</th>\n",
       "      <td>0.486592</td>\n",
       "      <td>0.836071</td>\n",
       "      <td>14.526497</td>\n",
       "      <td>1.102743</td>\n",
       "      <td>0.806057</td>\n",
       "      <td>49.693429</td>\n",
       "    </tr>\n",
       "    <tr>\n",
       "      <th>min</th>\n",
       "      <td>0.000000</td>\n",
       "      <td>1.000000</td>\n",
       "      <td>0.420000</td>\n",
       "      <td>0.000000</td>\n",
       "      <td>0.000000</td>\n",
       "      <td>0.000000</td>\n",
       "    </tr>\n",
       "    <tr>\n",
       "      <th>25%</th>\n",
       "      <td>0.000000</td>\n",
       "      <td>2.000000</td>\n",
       "      <td>20.125000</td>\n",
       "      <td>0.000000</td>\n",
       "      <td>0.000000</td>\n",
       "      <td>7.910400</td>\n",
       "    </tr>\n",
       "    <tr>\n",
       "      <th>50%</th>\n",
       "      <td>0.000000</td>\n",
       "      <td>3.000000</td>\n",
       "      <td>28.000000</td>\n",
       "      <td>0.000000</td>\n",
       "      <td>0.000000</td>\n",
       "      <td>14.454200</td>\n",
       "    </tr>\n",
       "    <tr>\n",
       "      <th>75%</th>\n",
       "      <td>1.000000</td>\n",
       "      <td>3.000000</td>\n",
       "      <td>38.000000</td>\n",
       "      <td>1.000000</td>\n",
       "      <td>0.000000</td>\n",
       "      <td>31.000000</td>\n",
       "    </tr>\n",
       "    <tr>\n",
       "      <th>max</th>\n",
       "      <td>1.000000</td>\n",
       "      <td>3.000000</td>\n",
       "      <td>80.000000</td>\n",
       "      <td>8.000000</td>\n",
       "      <td>6.000000</td>\n",
       "      <td>512.329200</td>\n",
       "    </tr>\n",
       "  </tbody>\n",
       "</table>\n",
       "</div>"
      ],
      "text/plain": [
       "         Survived      Pclass         Age       SibSp       Parch        Fare\n",
       "count  891.000000  891.000000  714.000000  891.000000  891.000000  891.000000\n",
       "mean     0.383838    2.308642   29.699118    0.523008    0.381594   32.204208\n",
       "std      0.486592    0.836071   14.526497    1.102743    0.806057   49.693429\n",
       "min      0.000000    1.000000    0.420000    0.000000    0.000000    0.000000\n",
       "25%      0.000000    2.000000   20.125000    0.000000    0.000000    7.910400\n",
       "50%      0.000000    3.000000   28.000000    0.000000    0.000000   14.454200\n",
       "75%      1.000000    3.000000   38.000000    1.000000    0.000000   31.000000\n",
       "max      1.000000    3.000000   80.000000    8.000000    6.000000  512.329200"
      ]
     },
     "execution_count": 14,
     "metadata": {},
     "output_type": "execute_result"
    }
   ],
   "source": [
    "df.describe()"
   ]
  },
  {
   "cell_type": "code",
   "execution_count": 15,
   "metadata": {},
   "outputs": [
    {
     "data": {
      "text/plain": [
       "<matplotlib.axes._subplots.AxesSubplot at 0x2a39538d1f0>"
      ]
     },
     "execution_count": 15,
     "metadata": {},
     "output_type": "execute_result"
    },
    {
     "data": {
      "image/png": "[encoded data removed]",
      "text/plain": [
       "<Figure size 432x288 with 1 Axes>"
      ]
     },
     "metadata": {
      "needs_background": "light"
     },
     "output_type": "display_data"
    }
   ],
   "source": [
    "sns.countplot(\"Pclass\", data = df)"
   ]
  },
  {
   "cell_type": "code",
   "execution_count": 16,
   "metadata": {},
   "outputs": [
    {
     "data": {
      "text/plain": [
       "<matplotlib.axes._subplots.AxesSubplot at 0x2a39538dca0>"
      ]
     },
     "execution_count": 16,
     "metadata": {},
     "output_type": "execute_result"
    },
    {
     "data": {
      "image/png": "[encoded data removed]",
      "text/plain": [
       "<Figure size 432x288 with 1 Axes>"
      ]
     },
     "metadata": {
      "needs_background": "light"
     },
     "output_type": "display_data"
    }
   ],
   "source": [
    "sns.distplot(df[\"Age\"])"
   ]
  },
  {
   "cell_type": "code",
   "execution_count": 17,
   "metadata": {},
   "outputs": [
    {
     "data": {
      "text/plain": [
       "<matplotlib.axes._subplots.AxesSubplot at 0x2a3954689a0>"
      ]
     },
     "execution_count": 17,
     "metadata": {},
     "output_type": "execute_result"
    },
    {
     "data": {
      "image/png": "[encoded data removed]",
      "text/plain": [
       "<Figure size 432x288 with 1 Axes>"
      ]
     },
     "metadata": {
      "needs_background": "light"
     },
     "output_type": "display_data"
    }
   ],
   "source": [
    "sns.distplot(df[df[\"Survived\"] == 0][\"Age\"], kde_kws={\"label\":\"0\"})\n",
    "sns.distplot(df[df[\"Survived\"] == 1][\"Age\"], kde_kws={\"label\":\"1\"})"
   ]
  },
  {
   "cell_type": "code",
   "execution_count": 18,
   "metadata": {},
   "outputs": [
    {
     "data": {
      "image/png": "[encoded data removed]",
      "text/plain": [
       "<Figure size 432x288 with 1 Axes>"
      ]
     },
     "metadata": {
      "needs_background": "light"
     },
     "output_type": "display_data"
    }
   ],
   "source": [
    "sns.violinplot(x='Sex', y='Age', hue='Survived', data=df, split=True, scale='count');"
   ]
  },
  {
   "cell_type": "code",
   "execution_count": 19,
   "metadata": {},
   "outputs": [
    {
     "data": {
      "image/png": "[encoded data removed]",
      "text/plain": [
       "<Figure size 432x288 with 1 Axes>"
      ]
     },
     "metadata": {
      "needs_background": "light"
     },
     "output_type": "display_data"
    }
   ],
   "source": [
    "sns.violinplot(x='Pclass', y='Age', hue='Survived', data=df, split=True, scale='count');"
   ]
  },
  {
   "cell_type": "code",
   "execution_count": 20,
   "metadata": {},
   "outputs": [],
   "source": [
    "mean_fare = df[\"Fare\"].mean()\n",
    "fare_25 = np.nanpercentile(df[\"Age\"], 25)\n",
    "fare_50 = np.nanpercentile(df[\"Age\"], 50)\n",
    "fare_75 = np.nanpercentile(df[\"Age\"], 75)"
   ]
  },
  {
   "cell_type": "code",
   "execution_count": 21,
   "metadata": {},
   "outputs": [],
   "source": [
    "df[\"Fare_amm\"] = df[\"Fare\"].apply(lambda x: 2 if x > fare_75 else (1 if  x > fare_50 else 0))"
   ]
  },
  {
   "cell_type": "code",
   "execution_count": 22,
   "metadata": {},
   "outputs": [
    {
     "data": {
      "image/png": "[encoded data removed]",
      "text/plain": [
       "<Figure size 432x288 with 1 Axes>"
      ]
     },
     "metadata": {
      "needs_background": "light"
     },
     "output_type": "display_data"
    }
   ],
   "source": [
    "sns.violinplot(x='Fare_amm', y='Age', hue='Survived', data=df, split=True, scale='count');"
   ]
  },
  {
   "cell_type": "code",
   "execution_count": 23,
   "metadata": {},
   "outputs": [],
   "source": [
    "#Observations\n",
    "#First age vs gender\n",
    "#Women divisions ->\n",
    "# over 60\n",
    "#60 to 40\n",
    "#40 to 35\n",
    "# 35 to 20\n",
    "#20 to 15\n",
    "#15 to 10\n",
    "#10 to 0\n",
    "# men divisions ->\n",
    "# over 60\n",
    "#60 to 40\n",
    "#40 to 25 \n",
    "#25 to 18\n",
    "#18 to 10\n",
    "#10 to 0\n",
    "\n",
    "#Passenger Clasx\n",
    "# Pclass 3 divisions ->\n",
    "#over 42\n",
    "#42 to 25\n",
    "#25 to 15 \n",
    "#15 to 10\n",
    "#10 to 0 \n",
    "#Plcass 2 divisions -> \n",
    "#over 60\n",
    "#60 to 40\n",
    "#40 to 30\n",
    "#30 to 25\n",
    "#25 to 20\n",
    "#20 to 15\n",
    "#15 yo 0\n",
    "#Pclass 1 divisions ->\n",
    "#over 70\n",
    "#70 to 55\n",
    "#55 to 35\n",
    "#35 to 20\n",
    "#20 to 10\n",
    "#10 to 0\n"
   ]
  },
  {
   "cell_type": "code",
   "execution_count": 24,
   "metadata": {},
   "outputs": [],
   "source": [
    "#Women age\n",
    "df[\"Womeno60\"] =df.apply(lambda x: 1 if (x.Sex == \"female\" and x.Age >= 60) else 0, axis=1)\n",
    "df[\"Women6040\"] =df.apply(lambda x: 1 if (x.Sex == \"female\" and x.Age < 60 and x.Age >= 40) else 0, axis=1)\n",
    "df[\"Women4035\"] =df.apply(lambda x: 1 if (x.Sex == \"female\" and x.Age < 40 and x.Age >= 35) else 0, axis=1)\n",
    "df[\"Women3520\"] =df.apply(lambda x: 1 if (x.Sex == \"female\" and x.Age < 35 and x.Age >= 20) else 0, axis=1)\n",
    "df[\"Women2015\"] =df.apply(lambda x: 1 if (x.Sex == \"female\" and x.Age < 20 and x.Age >= 15) else 0, axis=1)\n",
    "df[\"Women1510\"] =df.apply(lambda x: 1 if (x.Sex == \"female\" and x.Age < 15 and x.Age >= 10) else 0, axis=1)\n",
    "df[\"Womenu10\"] =df.apply(lambda x: 1 if (x.Sex == \"female\" and x.Age < 10) else 0, axis=1)\n"
   ]
  },
  {
   "cell_type": "code",
   "execution_count": 25,
   "metadata": {},
   "outputs": [],
   "source": [
    "#Men age\n",
    "df[\"Meno60\"] =df.apply(lambda x: 1 if (x.Sex == \"male\" and x.Age >= 60) else 0, axis=1)\n",
    "df[\"Men6040\"] =df.apply(lambda x: 1 if (x.Sex == \"male\" and x.Age < 60 and x.Age >= 40) else 0, axis=1)\n",
    "df[\"Men4025\"] =df.apply(lambda x: 1 if (x.Sex == \"male\" and x.Age < 40 and x.Age >= 35) else 0, axis=1)\n",
    "df[\"Men2518\"] =df.apply(lambda x: 1 if (x.Sex == \"male\" and x.Age < 25 and x.Age >= 18) else 0, axis=1)\n",
    "df[\"Men1810\"] =df.apply(lambda x: 1 if (x.Sex == \"male\" and x.Age < 15 and x.Age >= 10) else 0, axis=1)\n",
    "df[\"Menu10\"] =df.apply(lambda x: 1 if (x.Sex == \"male\" and x.Age < 10) else 0, axis=1)\n"
   ]
  },
  {
   "cell_type": "code",
   "execution_count": 26,
   "metadata": {},
   "outputs": [],
   "source": [
    "#Pclass 3 age\n",
    "df[\"Class3o42\"] =df.apply(lambda x: 1 if (x.Pclass == 3 and x.Age >= 42) else 0, axis=1)\n",
    "df[\"Class34225\"] =df.apply(lambda x: 1 if (x.Pclass == 3 and x.Age < 42 and x.Age >= 25) else 0, axis=1)\n",
    "df[\"Class32515\"] =df.apply(lambda x: 1 if (x.Pclass == 3 and x.Age < 25 and x.Age >= 15) else 0, axis=1)\n",
    "df[\"Class31510\"] =df.apply(lambda x: 1 if (x.Pclass == 3 and x.Age < 15 and x.Age >= 10) else 0, axis=1)\n",
    "df[\"Class3u10\"] =df.apply(lambda x: 1 if (x.Pclass == 3 and x.Age < 10) else 0, axis=1)\n"
   ]
  },
  {
   "cell_type": "code",
   "execution_count": 27,
   "metadata": {},
   "outputs": [],
   "source": [
    "#Pclass 2 age\n",
    "df[\"Class2o60\"] =df.apply(lambda x: 1 if (x.Pclass == 2 and x.Age >= 60) else 0, axis=1)\n",
    "df[\"Class26040\"] =df.apply(lambda x: 1 if (x.Pclass == 2 and x.Age < 60 and x.Age >= 40) else 0, axis=1)\n",
    "df[\"Class24030\"] =df.apply(lambda x: 1 if (x.Pclass == 2 and x.Age < 40 and x.Age >= 30) else 0, axis=1)\n",
    "df[\"Class23025\"] =df.apply(lambda x: 1 if (x.Pclass == 2 and x.Age < 30 and x.Age >= 25) else 0, axis=1)\n",
    "df[\"Class22520\"] =df.apply(lambda x: 1 if (x.Pclass == 2 and x.Age < 25 and x.Age >= 20) else 0, axis=1)\n",
    "df[\"Class22015\"] =df.apply(lambda x: 1 if (x.Pclass == 2 and x.Age < 20 and x.Age >= 15) else 0, axis=1)\n",
    "df[\"Class2u15\"] =df.apply(lambda x: 1 if (x.Pclass == 2 and x.Age < 15 ) else 0, axis=1)\n"
   ]
  },
  {
   "cell_type": "code",
   "execution_count": 28,
   "metadata": {},
   "outputs": [],
   "source": [
    "#Pclass 1 age\n",
    "df[\"Class1o70\"] =df.apply(lambda x: 1 if (x.Pclass == 1 and x.Age >= 70) else 0, axis=1)\n",
    "df[\"Class17055\"] =df.apply(lambda x: 1 if (x.Pclass == 1 and x.Age < 70 and x.Age >= 55) else 0, axis=1)\n",
    "df[\"Class15535\"] =df.apply(lambda x: 1 if (x.Pclass == 1 and x.Age < 55 and x.Age >= 35) else 0, axis=1)\n",
    "df[\"Class13520\"] =df.apply(lambda x: 1 if (x.Pclass == 1 and x.Age < 35 and x.Age >= 20) else 0, axis=1)\n",
    "df[\"Class12010\"] =df.apply(lambda x: 1 if (x.Pclass == 1 and x.Age < 20 and x.Age >= 10) else 0, axis=1)\n",
    "df[\"Class1u10\"] =df.apply(lambda x: 1 if (x.Pclass == 1 and x.Age < 10 ) else 0, axis=1)"
   ]
  },
  {
   "cell_type": "code",
   "execution_count": 29,
   "metadata": {},
   "outputs": [
    {
     "data": {
      "text/plain": [
       "Index(['Survived', 'Pclass', 'Sex', 'Age', 'SibSp', 'Parch', 'Fare',\n",
       "       'Embarked', 'Fare_amm', 'Womeno60', 'Women6040', 'Women4035',\n",
       "       'Women3520', 'Women2015', 'Women1510', 'Womenu10', 'Meno60', 'Men6040',\n",
       "       'Men4025', 'Men2518', 'Men1810', 'Menu10', 'Class3o42', 'Class34225',\n",
       "       'Class32515', 'Class31510', 'Class3u10', 'Class2o60', 'Class26040',\n",
       "       'Class24030', 'Class23025', 'Class22520', 'Class22015', 'Class2u15',\n",
       "       'Class1o70', 'Class17055', 'Class15535', 'Class13520', 'Class12010',\n",
       "       'Class1u10'],\n",
       "      dtype='object')"
      ]
     },
     "execution_count": 29,
     "metadata": {},
     "output_type": "execute_result"
    }
   ],
   "source": [
    "df.columns"
   ]
  },
  {
   "cell_type": "code",
   "execution_count": 30,
   "metadata": {},
   "outputs": [
    {
     "data": {
      "image/png": "[encoded data removed]",
      "text/plain": [
       "<Figure size 432x288 with 1 Axes>"
      ]
     },
     "metadata": {
      "needs_background": "light"
     },
     "output_type": "display_data"
    }
   ],
   "source": [
    "sns.violinplot(x='Pclass', y='Fare', hue='Survived', data=df, split=True, scale='count');"
   ]
  },
  {
   "cell_type": "code",
   "execution_count": 31,
   "metadata": {},
   "outputs": [],
   "source": [
    "fare_90 = np.nanpercentile(df[\"Fare\"], 95)\n",
    "df[\"bet_Fare\"] = df[\"Fare\"].apply(lambda x: fare_90 if x > fare_90 else x)"
   ]
  },
  {
   "cell_type": "code",
   "execution_count": 32,
   "metadata": {},
   "outputs": [
    {
     "data": {
      "image/png": "[encoded data removed]",
      "text/plain": [
       "<Figure size 432x288 with 1 Axes>"
      ]
     },
     "metadata": {
      "needs_background": "light"
     },
     "output_type": "display_data"
    }
   ],
   "source": [
    "sns.violinplot(x='Pclass', y='bet_Fare', hue='Survived', data=df, split=True, scale='count');"
   ]
  },
  {
   "cell_type": "code",
   "execution_count": 33,
   "metadata": {},
   "outputs": [],
   "source": [
    "#Insight Fare vs Class\n",
    "#Class 3 divisions\n",
    "#over 50\n",
    "#50 to 25\n",
    "#25 to 20\n",
    "#15 to 10\n",
    "#10 to 8\n",
    "#under 8\n",
    "\n",
    "#Class 2 divisions\n",
    "#over 75\n",
    "#75 to 60\n",
    "#60 to 40\n",
    "#40 to 30\n",
    "#30 to 20\n",
    "#20 to 15\n",
    "#15 to 5\n",
    "#under 5\n",
    "\n",
    "#class 1 divisions\n",
    "#over 120\n",
    "#120 to 100\n",
    "#100 to 80\n",
    "#80 to 70\n",
    "#70 to 50\n",
    "#50 to 25\n",
    "#25 to 20\n",
    "#20 to 15\n",
    "#under 15\n"
   ]
  },
  {
   "cell_type": "code",
   "execution_count": 34,
   "metadata": {},
   "outputs": [],
   "source": [
    "#Class 3 Fare\n",
    "df[\"Class3Fo50\"] =df.apply(lambda x: 1 if (x.Pclass == 3 and x.Fare >= 50) else 0, axis=1)\n",
    "df[\"Class3F5025\"] =df.apply(lambda x: 1 if (x.Pclass == 3 and x.Fare < 50 and x.Fare >= 25) else 0, axis=1)\n",
    "df[\"Class3F2520\"] =df.apply(lambda x: 1 if (x.Pclass == 3 and x.Fare < 25 and x.Fare >= 20) else 0, axis=1)\n",
    "df[\"Class3F2015\"] =df.apply(lambda x: 1 if (x.Pclass == 3 and x.Fare < 20 and x.Fare >= 15) else 0, axis=1)\n",
    "df[\"Class3F1510\"] =df.apply(lambda x: 1 if (x.Pclass == 3 and x.Fare < 15 and x.Fare >= 10) else 0, axis=1)\n",
    "df[\"Class3F108\"] =df.apply(lambda x: 1 if (x.Pclass == 3 and x.Fare < 10 and x.Fare >= 8) else 0, axis=1)\n",
    "df[\"Class3Fu8\"] =df.apply(lambda x: 1 if (x.Pclass == 3 and x.Fare < 8 ) else 0, axis=1)"
   ]
  },
  {
   "cell_type": "code",
   "execution_count": 35,
   "metadata": {},
   "outputs": [],
   "source": [
    "#Class 2 Fare\n",
    "df[\"Class2Fo75\"] =df.apply(lambda x: 1 if (x.Pclass == 2 and x.Fare >= 75) else 0, axis=1)\n",
    "df[\"Class2F7560\"] =df.apply(lambda x: 1 if (x.Pclass == 2 and x.Fare < 75 and x.Fare >= 60) else 0, axis=1)\n",
    "df[\"Class2F6040\"] =df.apply(lambda x: 1 if (x.Pclass == 2 and x.Fare < 60 and x.Fare >= 40) else 0, axis=1)\n",
    "df[\"Class2F4030\"] =df.apply(lambda x: 1 if (x.Pclass == 2 and x.Fare < 40 and x.Fare >= 30) else 0, axis=1)\n",
    "df[\"Class2F3020\"] =df.apply(lambda x: 1 if (x.Pclass == 2 and x.Fare < 30 and x.Fare >= 20) else 0, axis=1)\n",
    "df[\"Class2F2015\"] =df.apply(lambda x: 1 if (x.Pclass == 2 and x.Fare < 20 and x.Fare >= 15) else 0, axis=1)\n",
    "df[\"Class2Fu15\"] =df.apply(lambda x: 1 if (x.Pclass == 2 and x.Fare < 15 ) else 0, axis=1)"
   ]
  },
  {
   "cell_type": "code",
   "execution_count": 36,
   "metadata": {},
   "outputs": [],
   "source": [
    "#Class 1 Fare\n",
    "df[\"Class1Fo120\"] =df.apply(lambda x: 1 if (x.Pclass == 1 and x.Fare >= 120) else 0, axis=1)\n",
    "df[\"Class1F120100\"] =df.apply(lambda x: 1 if (x.Pclass == 1 and x.Fare < 120 and x.Fare >= 100) else 0, axis=1)\n",
    "df[\"Class1F10080\"] =df.apply(lambda x: 1 if (x.Pclass == 1 and x.Fare < 100 and x.Fare >= 80) else 0, axis=1)\n",
    "df[\"Class1F8070\"] =df.apply(lambda x: 1 if (x.Pclass == 1 and x.Fare < 80 and x.Fare >= 70) else 0, axis=1)\n",
    "df[\"Class1F7050\"] =df.apply(lambda x: 1 if (x.Pclass == 1 and x.Fare < 70 and x.Fare >= 50) else 0, axis=1)\n",
    "df[\"Class1F5025\"] =df.apply(lambda x: 1 if (x.Pclass == 1 and x.Fare < 50 and x.Fare >= 25) else 0, axis=1)\n",
    "df[\"Class1F2520\"] =df.apply(lambda x: 1 if (x.Pclass == 1 and x.Fare < 25 and x.Fare >= 20) else 0, axis=1)\n",
    "df[\"Class1F2015\"] =df.apply(lambda x: 1 if (x.Pclass == 1 and x.Fare < 20 and x.Fare >= 15) else 0, axis=1)\n",
    "df[\"Class1Fu15\"] =df.apply(lambda x: 1 if (x.Pclass == 1 and x.Fare < 15 ) else 0, axis=1)"
   ]
  },
  {
   "cell_type": "code",
   "execution_count": 37,
   "metadata": {},
   "outputs": [
    {
     "data": {
      "text/plain": [
       "Index(['Survived', 'Pclass', 'Sex', 'Age', 'SibSp', 'Parch', 'Fare',\n",
       "       'Embarked', 'Fare_amm', 'Womeno60', 'Women6040', 'Women4035',\n",
       "       'Women3520', 'Women2015', 'Women1510', 'Womenu10', 'Meno60', 'Men6040',\n",
       "       'Men4025', 'Men2518', 'Men1810', 'Menu10', 'Class3o42', 'Class34225',\n",
       "       'Class32515', 'Class31510', 'Class3u10', 'Class2o60', 'Class26040',\n",
       "       'Class24030', 'Class23025', 'Class22520', 'Class22015', 'Class2u15',\n",
       "       'Class1o70', 'Class17055', 'Class15535', 'Class13520', 'Class12010',\n",
       "       'Class1u10', 'bet_Fare', 'Class3Fo50', 'Class3F5025', 'Class3F2520',\n",
       "       'Class3F2015', 'Class3F1510', 'Class3F108', 'Class3Fu8', 'Class2Fo75',\n",
       "       'Class2F7560', 'Class2F6040', 'Class2F4030', 'Class2F3020',\n",
       "       'Class2F2015', 'Class2Fu15', 'Class1Fo120', 'Class1F120100',\n",
       "       'Class1F10080', 'Class1F8070', 'Class1F7050', 'Class1F5025',\n",
       "       'Class1F2520', 'Class1F2015', 'Class1Fu15'],\n",
       "      dtype='object')"
      ]
     },
     "execution_count": 37,
     "metadata": {},
     "output_type": "execute_result"
    }
   ],
   "source": [
    "df.columns"
   ]
  },
  {
   "cell_type": "code",
   "execution_count": 38,
   "metadata": {},
   "outputs": [],
   "source": [
    "#lets bin age and fare"
   ]
  },
  {
   "cell_type": "code",
   "execution_count": 39,
   "metadata": {},
   "outputs": [
    {
     "data": {
      "text/plain": [
       "<matplotlib.axes._subplots.AxesSubplot at 0x2a3957b8e50>"
      ]
     },
     "execution_count": 39,
     "metadata": {},
     "output_type": "execute_result"
    },
    {
     "data": {
      "image/png": "[encoded data removed]",
      "text/plain": [
       "<Figure size 432x288 with 1 Axes>"
      ]
     },
     "metadata": {
      "needs_background": "light"
     },
     "output_type": "display_data"
    }
   ],
   "source": [
    "sns.distplot(df[df[\"Survived\"] == 0][\"Age\"], kde_kws={\"label\":\"0\"})\n",
    "sns.distplot(df[df[\"Survived\"] == 1][\"Age\"], kde_kws={\"label\":\"1\"})"
   ]
  },
  {
   "cell_type": "code",
   "execution_count": 40,
   "metadata": {},
   "outputs": [],
   "source": [
    "df[\"Age_class\"] = df[\"Age\"].apply(lambda x: 1 if x <= 10 else 0)\n",
    "df[\"Age_class\"] = df.apply(lambda x: 2 if x.Age > 10 and x.Age <= 20 else x.Age_class, axis =1)\n",
    "df[\"Age_class\"] = df.apply(lambda x: 3 if x.Age > 20 and x.Age <= 25 else x.Age_class, axis =1) #20 to 25???\n",
    "df[\"Age_class\"] = df.apply(lambda x: 4 if x.Age > 25 and x.Age <= 35 else x.Age_class, axis =1)\n",
    "df[\"Age_class\"] = df.apply(lambda x: 5 if x.Age > 35 and x.Age <= 40 else x.Age_class, axis =1)\n",
    "df[\"Age_class\"] = df.apply(lambda x: 6 if x.Age > 40 and x.Age <= 50 else x.Age_class, axis =1)\n",
    "df[\"Age_class\"] = df.apply(lambda x: 7 if x.Age > 50 and x.Age <= 60 else x.Age_class, axis =1)\n",
    "df[\"Age_class\"] = df.apply(lambda x: 4 if x.Age > 60 else x.Age_class,axis =1)"
   ]
  },
  {
   "cell_type": "code",
   "execution_count": 41,
   "metadata": {},
   "outputs": [
    {
     "data": {
      "text/plain": [
       "4    218\n",
       "0    177\n",
       "3    122\n",
       "2    115\n",
       "6     86\n",
       "5     67\n",
       "1     64\n",
       "7     42\n",
       "Name: Age_class, dtype: int64"
      ]
     },
     "execution_count": 41,
     "metadata": {},
     "output_type": "execute_result"
    }
   ],
   "source": [
    "df[\"Age_class\"].value_counts()"
   ]
  },
  {
   "cell_type": "code",
   "execution_count": 42,
   "metadata": {},
   "outputs": [
    {
     "data": {
      "text/plain": [
       "Index(['Survived', 'Pclass', 'Sex', 'Age', 'SibSp', 'Parch', 'Fare',\n",
       "       'Embarked', 'Fare_amm', 'Womeno60', 'Women6040', 'Women4035',\n",
       "       'Women3520', 'Women2015', 'Women1510', 'Womenu10', 'Meno60', 'Men6040',\n",
       "       'Men4025', 'Men2518', 'Men1810', 'Menu10', 'Class3o42', 'Class34225',\n",
       "       'Class32515', 'Class31510', 'Class3u10', 'Class2o60', 'Class26040',\n",
       "       'Class24030', 'Class23025', 'Class22520', 'Class22015', 'Class2u15',\n",
       "       'Class1o70', 'Class17055', 'Class15535', 'Class13520', 'Class12010',\n",
       "       'Class1u10', 'bet_Fare', 'Class3Fo50', 'Class3F5025', 'Class3F2520',\n",
       "       'Class3F2015', 'Class3F1510', 'Class3F108', 'Class3Fu8', 'Class2Fo75',\n",
       "       'Class2F7560', 'Class2F6040', 'Class2F4030', 'Class2F3020',\n",
       "       'Class2F2015', 'Class2Fu15', 'Class1Fo120', 'Class1F120100',\n",
       "       'Class1F10080', 'Class1F8070', 'Class1F7050', 'Class1F5025',\n",
       "       'Class1F2520', 'Class1F2015', 'Class1Fu15', 'Age_class'],\n",
       "      dtype='object')"
      ]
     },
     "execution_count": 42,
     "metadata": {},
     "output_type": "execute_result"
    }
   ],
   "source": [
    "df.columns"
   ]
  },
  {
   "cell_type": "code",
   "execution_count": 43,
   "metadata": {},
   "outputs": [
    {
     "data": {
      "text/plain": [
       "<matplotlib.axes._subplots.AxesSubplot at 0x2a395788340>"
      ]
     },
     "execution_count": 43,
     "metadata": {},
     "output_type": "execute_result"
    },
    {
     "data": {
      "image/png": "[encoded data removed]",
      "text/plain": [
       "<Figure size 432x288 with 1 Axes>"
      ]
     },
     "metadata": {
      "needs_background": "light"
     },
     "output_type": "display_data"
    }
   ],
   "source": [
    "sns.distplot(df[df[\"Survived\"] == 0][\"bet_Fare\"], kde_kws={\"label\":\"0\"})\n",
    "sns.distplot(df[df[\"Survived\"] == 1][\"bet_Fare\"], kde_kws={\"label\":\"1\"})"
   ]
  },
  {
   "cell_type": "code",
   "execution_count": 44,
   "metadata": {},
   "outputs": [],
   "source": [
    "df[\"Fare_class\"] =df[\"Fare\"].apply(lambda x: 1 if (x >= 0 and x <= 20) else 0)\n",
    "df[\"Fare_class\"] =df.apply(lambda x: 2 if (x.Fare >= 5 and x.Fare <= 25) else x.Fare_class, axis = 1)\n",
    "df[\"Fare_class\"] =df.apply(lambda x: 3 if (x.Fare >= 25 and x.Fare <= 30) else x.Fare_class, axis = 1)\n",
    "df[\"Fare_class\"] =df.apply(lambda x: 4 if (x.Fare >= 30 and x.Fare <= 50) else x.Fare_class, axis = 1)\n",
    "df[\"Fare_class\"] =df.apply(lambda x: 5 if (x.Fare >= 50 and x.Fare <= 60) else x.Fare_class, axis = 1)\n",
    "df[\"Fare_class\"] =df.apply(lambda x: 6 if (x.Fare >= 60 and x.Fare <= 80) else x.Fare_class, axis = 1)\n",
    "df[\"Fare_class\"] =df.apply(lambda x: 7 if (x.Fare >= 80 and x.Fare <= 100) else x.Fare_class, axis = 1)\n",
    "df[\"Fare_class\"] =df.apply(lambda x: 8 if (x.Fare >= 100 and x.Fare <= 110) else x.Fare_class, axis = 1)\n",
    "df[\"Fare_class\"] =df.apply(lambda x: 9 if (x.Fare >= 110 and x.Fare <= 125) else x.Fare_class, axis = 1)\n",
    "df[\"Fare_class\"] =df.apply(lambda x: 10 if (x.Fare >= 125) else x.Fare_class, axis = 1)\n"
   ]
  },
  {
   "cell_type": "code",
   "execution_count": 45,
   "metadata": {},
   "outputs": [
    {
     "data": {
      "text/plain": [
       "2     541\n",
       "3      94\n",
       "4      79\n",
       "6      46\n",
       "5      39\n",
       "10     38\n",
       "7      23\n",
       "1      16\n",
       "9      11\n",
       "8       4\n",
       "Name: Fare_class, dtype: int64"
      ]
     },
     "execution_count": 45,
     "metadata": {},
     "output_type": "execute_result"
    }
   ],
   "source": [
    "df[\"Fare_class\"].value_counts()"
   ]
  },
  {
   "cell_type": "code",
   "execution_count": 46,
   "metadata": {},
   "outputs": [
    {
     "data": {
      "text/plain": [
       "Index(['Survived', 'Pclass', 'Sex', 'Age', 'SibSp', 'Parch', 'Fare',\n",
       "       'Embarked', 'Fare_amm', 'Womeno60', 'Women6040', 'Women4035',\n",
       "       'Women3520', 'Women2015', 'Women1510', 'Womenu10', 'Meno60', 'Men6040',\n",
       "       'Men4025', 'Men2518', 'Men1810', 'Menu10', 'Class3o42', 'Class34225',\n",
       "       'Class32515', 'Class31510', 'Class3u10', 'Class2o60', 'Class26040',\n",
       "       'Class24030', 'Class23025', 'Class22520', 'Class22015', 'Class2u15',\n",
       "       'Class1o70', 'Class17055', 'Class15535', 'Class13520', 'Class12010',\n",
       "       'Class1u10', 'bet_Fare', 'Class3Fo50', 'Class3F5025', 'Class3F2520',\n",
       "       'Class3F2015', 'Class3F1510', 'Class3F108', 'Class3Fu8', 'Class2Fo75',\n",
       "       'Class2F7560', 'Class2F6040', 'Class2F4030', 'Class2F3020',\n",
       "       'Class2F2015', 'Class2Fu15', 'Class1Fo120', 'Class1F120100',\n",
       "       'Class1F10080', 'Class1F8070', 'Class1F7050', 'Class1F5025',\n",
       "       'Class1F2520', 'Class1F2015', 'Class1Fu15', 'Age_class', 'Fare_class'],\n",
       "      dtype='object')"
      ]
     },
     "execution_count": 46,
     "metadata": {},
     "output_type": "execute_result"
    }
   ],
   "source": [
    "df.columns"
   ]
  },
  {
   "cell_type": "code",
   "execution_count": 47,
   "metadata": {},
   "outputs": [
    {
     "data": {
      "text/plain": [
       "<matplotlib.axes._subplots.AxesSubplot at 0x2a395849730>"
      ]
     },
     "execution_count": 47,
     "metadata": {},
     "output_type": "execute_result"
    },
    {
     "data": {
      "image/png": "[encoded data removed]",
      "text/plain": [
       "<Figure size 432x288 with 2 Axes>"
      ]
     },
     "metadata": {
      "needs_background": "light"
     },
     "output_type": "display_data"
    }
   ],
   "source": [
    "cmap = sns.diverging_palette(220,10,as_cmap=True)\n",
    "sns.heatmap(df[[\"Survived\",\"Age_class\", \"Fare_class\"]].corr(), linewidths=.5, cmap = cmap, annot=True)"
   ]
  },
  {
   "cell_type": "code",
   "execution_count": 48,
   "metadata": {},
   "outputs": [],
   "source": [
    "df = df.drop(\"Age\", axis = 1)\n",
    "df = df.drop(\"Fare\", axis = 1)\n",
    "df = df.drop(\"Fare_amm\", axis = 1)\n",
    "df = df.drop(\"bet_Fare\", axis = 1)"
   ]
  },
  {
   "cell_type": "code",
   "execution_count": 49,
   "metadata": {},
   "outputs": [
    {
     "data": {
      "text/plain": [
       "Index(['Survived', 'Pclass', 'Sex', 'SibSp', 'Parch', 'Embarked', 'Womeno60',\n",
       "       'Women6040', 'Women4035', 'Women3520', 'Women2015', 'Women1510',\n",
       "       'Womenu10', 'Meno60', 'Men6040', 'Men4025', 'Men2518', 'Men1810',\n",
       "       'Menu10', 'Class3o42', 'Class34225', 'Class32515', 'Class31510',\n",
       "       'Class3u10', 'Class2o60', 'Class26040', 'Class24030', 'Class23025',\n",
       "       'Class22520', 'Class22015', 'Class2u15', 'Class1o70', 'Class17055',\n",
       "       'Class15535', 'Class13520', 'Class12010', 'Class1u10', 'Class3Fo50',\n",
       "       'Class3F5025', 'Class3F2520', 'Class3F2015', 'Class3F1510',\n",
       "       'Class3F108', 'Class3Fu8', 'Class2Fo75', 'Class2F7560', 'Class2F6040',\n",
       "       'Class2F4030', 'Class2F3020', 'Class2F2015', 'Class2Fu15',\n",
       "       'Class1Fo120', 'Class1F120100', 'Class1F10080', 'Class1F8070',\n",
       "       'Class1F7050', 'Class1F5025', 'Class1F2520', 'Class1F2015',\n",
       "       'Class1Fu15', 'Age_class', 'Fare_class'],\n",
       "      dtype='object')"
      ]
     },
     "execution_count": 49,
     "metadata": {},
     "output_type": "execute_result"
    }
   ],
   "source": [
    "df.columns"
   ]
  },
  {
   "cell_type": "code",
   "execution_count": 50,
   "metadata": {},
   "outputs": [],
   "source": [
    "df[\"Embarked\"] = df[\"Embarked\"].apply(lambda x: \"S\" if pd.isnull(x) else x)"
   ]
  },
  {
   "cell_type": "code",
   "execution_count": 51,
   "metadata": {},
   "outputs": [
    {
     "data": {
      "text/plain": [
       "S    646\n",
       "C    168\n",
       "Q     77\n",
       "Name: Embarked, dtype: int64"
      ]
     },
     "execution_count": 51,
     "metadata": {},
     "output_type": "execute_result"
    }
   ],
   "source": [
    "df[\"Embarked\"].value_counts()"
   ]
  },
  {
   "cell_type": "code",
   "execution_count": 55,
   "metadata": {},
   "outputs": [],
   "source": [
    "df_dummies = pd.get_dummies(df)"
   ]
  },
  {
   "cell_type": "code",
   "execution_count": 58,
   "metadata": {},
   "outputs": [
    {
     "data": {
      "text/plain": [
       "Index(['Survived', 'Pclass', 'SibSp', 'Parch', 'Womeno60', 'Women6040',\n",
       "       'Women4035', 'Women3520', 'Women2015', 'Women1510', 'Womenu10',\n",
       "       'Meno60', 'Men6040', 'Men4025', 'Men2518', 'Men1810', 'Menu10',\n",
       "       'Class3o42', 'Class34225', 'Class32515', 'Class31510', 'Class3u10',\n",
       "       'Class2o60', 'Class26040', 'Class24030', 'Class23025', 'Class22520',\n",
       "       'Class22015', 'Class2u15', 'Class1o70', 'Class17055', 'Class15535',\n",
       "       'Class13520', 'Class12010', 'Class1u10', 'Class3Fo50', 'Class3F5025',\n",
       "       'Class3F2520', 'Class3F2015', 'Class3F1510', 'Class3F108', 'Class3Fu8',\n",
       "       'Class2Fo75', 'Class2F7560', 'Class2F6040', 'Class2F4030',\n",
       "       'Class2F3020', 'Class2F2015', 'Class2Fu15', 'Class1Fo120',\n",
       "       'Class1F120100', 'Class1F10080', 'Class1F8070', 'Class1F7050',\n",
       "       'Class1F5025', 'Class1F2520', 'Class1F2015', 'Class1Fu15', 'Age_class',\n",
       "       'Fare_class', 'Sex_female', 'Sex_male', 'Embarked_C', 'Embarked_Q',\n",
       "       'Embarked_S'],\n",
       "      dtype='object')"
      ]
     },
     "execution_count": 58,
     "metadata": {},
     "output_type": "execute_result"
    }
   ],
   "source": [
    "df_dummies.columns "
   ]
  },
  {
   "cell_type": "code",
   "execution_count": 59,
   "metadata": {},
   "outputs": [],
   "source": [
    "df_dummies.to_csv('Data/train_cat.csv')"
   ]
  },
  {
   "cell_type": "code",
   "execution_count": null,
   "metadata": {},
   "outputs": [],
   "source": []
  }
 ],
 "metadata": {
  "kernelspec": {
   "display_name": "Python 3",
   "language": "python",
   "name": "python3"
  },
  "language_info": {
   "codemirror_mode": {
    "name": "ipython",
    "version": 3
   },
   "file_extension": ".py",
   "mimetype": "text/x-python",
   "name": "python",
   "nbconvert_exporter": "python",
   "pygments_lexer": "ipython3",
   "version": "3.8.3"
  }
 },
 "nbformat": 4,
 "nbformat_minor": 4
}
