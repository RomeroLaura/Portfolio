{
 "cells": [
  {
   "cell_type": "code",
   "execution_count": 1,
   "metadata": {},
   "outputs": [],
   "source": [
    "#Exploration of Titanic Dataset \n",
    "\n",
    "#This notebook describes the process by which you can arrive at 80\n",
    "#percentage of accuracy in predicting survival for members of the Titanic Data Set.\n",
    "    #The information in this notebook is related to the tragedy of the Titanic in 1912 and I mean\n",
    "    #no disrepsect to the deceased, may they rest in peace.\n",
    "    "
   ]
  },
  {
   "cell_type": "code",
   "execution_count": 2,
   "metadata": {},
   "outputs": [],
   "source": [
    "#prep\n",
    "import pandas as pd\n",
    "import numpy as np\n",
    "import seaborn as sns\n",
    "df = pd.read_csv(\"Data/train.csv\")"
   ]
  },
  {
   "cell_type": "code",
   "execution_count": 3,
   "metadata": {},
   "outputs": [],
   "source": [
    "#Part 1 - Data Exploration and Cleaning\n",
    "#The first order of buisness is to ensure that every columns\n",
    "#in the dataframe is usable. This consists of ensuring all data has a value\n",
    "#taking care of outliers and removing any multicolinearity among the data"
   ]
  },
  {
   "cell_type": "code",
   "execution_count": 4,
   "metadata": {},
   "outputs": [],
   "source": [
    "#Let us have a glance at the data, below are the first few rows as well \n",
    "#as the preliminary description of statistical measures"
   ]
  },
  {
   "cell_type": "code",
   "execution_count": 5,
   "metadata": {},
   "outputs": [
    {
     "data": {
      "text/plain": [
       "Index(['PassengerId', 'Survived', 'Pclass', 'Name', 'Sex', 'Age', 'SibSp',\n",
       "       'Parch', 'Ticket', 'Fare', 'Cabin', 'Embarked'],\n",
       "      dtype='object')"
      ]
     },
     "execution_count": 5,
     "metadata": {},
     "output_type": "execute_result"
    }
   ],
   "source": [
    "df.columns"
   ]
  },
  {
   "cell_type": "code",
   "execution_count": 6,
   "metadata": {},
   "outputs": [
    {
     "data": {
      "text/html": [
       "<div>\n",
       "<style scoped>\n",
       "    .dataframe tbody tr th:only-of-type {\n",
       "        vertical-align: middle;\n",
       "    }\n",
       "\n",
       "    .dataframe tbody tr th {\n",
       "        vertical-align: top;\n",
       "    }\n",
       "\n",
       "    .dataframe thead th {\n",
       "        text-align: right;\n",
       "    }\n",
       "</style>\n",
       "<table border=\"1\" class=\"dataframe\">\n",
       "  <thead>\n",
       "    <tr style=\"text-align: right;\">\n",
       "      <th></th>\n",
       "      <th>PassengerId</th>\n",
       "      <th>Survived</th>\n",
       "      <th>Pclass</th>\n",
       "      <th>Name</th>\n",
       "      <th>Sex</th>\n",
       "      <th>Age</th>\n",
       "      <th>SibSp</th>\n",
       "      <th>Parch</th>\n",
       "      <th>Ticket</th>\n",
       "      <th>Fare</th>\n",
       "      <th>Cabin</th>\n",
       "      <th>Embarked</th>\n",
       "    </tr>\n",
       "  </thead>\n",
       "  <tbody>\n",
       "    <tr>\n",
       "      <th>0</th>\n",
       "      <td>1</td>\n",
       "      <td>0</td>\n",
       "      <td>3</td>\n",
       "      <td>Braund, Mr. Owen Harris</td>\n",
       "      <td>male</td>\n",
       "      <td>22.0</td>\n",
       "      <td>1</td>\n",
       "      <td>0</td>\n",
       "      <td>A/5 21171</td>\n",
       "      <td>7.2500</td>\n",
       "      <td>NaN</td>\n",
       "      <td>S</td>\n",
       "    </tr>\n",
       "    <tr>\n",
       "      <th>1</th>\n",
       "      <td>2</td>\n",
       "      <td>1</td>\n",
       "      <td>1</td>\n",
       "      <td>Cumings, Mrs. John Bradley (Florence Briggs Th...</td>\n",
       "      <td>female</td>\n",
       "      <td>38.0</td>\n",
       "      <td>1</td>\n",
       "      <td>0</td>\n",
       "      <td>PC 17599</td>\n",
       "      <td>71.2833</td>\n",
       "      <td>C85</td>\n",
       "      <td>C</td>\n",
       "    </tr>\n",
       "    <tr>\n",
       "      <th>2</th>\n",
       "      <td>3</td>\n",
       "      <td>1</td>\n",
       "      <td>3</td>\n",
       "      <td>Heikkinen, Miss. Laina</td>\n",
       "      <td>female</td>\n",
       "      <td>26.0</td>\n",
       "      <td>0</td>\n",
       "      <td>0</td>\n",
       "      <td>STON/O2. 3101282</td>\n",
       "      <td>7.9250</td>\n",
       "      <td>NaN</td>\n",
       "      <td>S</td>\n",
       "    </tr>\n",
       "    <tr>\n",
       "      <th>3</th>\n",
       "      <td>4</td>\n",
       "      <td>1</td>\n",
       "      <td>1</td>\n",
       "      <td>Futrelle, Mrs. Jacques Heath (Lily May Peel)</td>\n",
       "      <td>female</td>\n",
       "      <td>35.0</td>\n",
       "      <td>1</td>\n",
       "      <td>0</td>\n",
       "      <td>113803</td>\n",
       "      <td>53.1000</td>\n",
       "      <td>C123</td>\n",
       "      <td>S</td>\n",
       "    </tr>\n",
       "    <tr>\n",
       "      <th>4</th>\n",
       "      <td>5</td>\n",
       "      <td>0</td>\n",
       "      <td>3</td>\n",
       "      <td>Allen, Mr. William Henry</td>\n",
       "      <td>male</td>\n",
       "      <td>35.0</td>\n",
       "      <td>0</td>\n",
       "      <td>0</td>\n",
       "      <td>373450</td>\n",
       "      <td>8.0500</td>\n",
       "      <td>NaN</td>\n",
       "      <td>S</td>\n",
       "    </tr>\n",
       "    <tr>\n",
       "      <th>...</th>\n",
       "      <td>...</td>\n",
       "      <td>...</td>\n",
       "      <td>...</td>\n",
       "      <td>...</td>\n",
       "      <td>...</td>\n",
       "      <td>...</td>\n",
       "      <td>...</td>\n",
       "      <td>...</td>\n",
       "      <td>...</td>\n",
       "      <td>...</td>\n",
       "      <td>...</td>\n",
       "      <td>...</td>\n",
       "    </tr>\n",
       "    <tr>\n",
       "      <th>886</th>\n",
       "      <td>887</td>\n",
       "      <td>0</td>\n",
       "      <td>2</td>\n",
       "      <td>Montvila, Rev. Juozas</td>\n",
       "      <td>male</td>\n",
       "      <td>27.0</td>\n",
       "      <td>0</td>\n",
       "      <td>0</td>\n",
       "      <td>211536</td>\n",
       "      <td>13.0000</td>\n",
       "      <td>NaN</td>\n",
       "      <td>S</td>\n",
       "    </tr>\n",
       "    <tr>\n",
       "      <th>887</th>\n",
       "      <td>888</td>\n",
       "      <td>1</td>\n",
       "      <td>1</td>\n",
       "      <td>Graham, Miss. Margaret Edith</td>\n",
       "      <td>female</td>\n",
       "      <td>19.0</td>\n",
       "      <td>0</td>\n",
       "      <td>0</td>\n",
       "      <td>112053</td>\n",
       "      <td>30.0000</td>\n",
       "      <td>B42</td>\n",
       "      <td>S</td>\n",
       "    </tr>\n",
       "    <tr>\n",
       "      <th>888</th>\n",
       "      <td>889</td>\n",
       "      <td>0</td>\n",
       "      <td>3</td>\n",
       "      <td>Johnston, Miss. Catherine Helen \"Carrie\"</td>\n",
       "      <td>female</td>\n",
       "      <td>NaN</td>\n",
       "      <td>1</td>\n",
       "      <td>2</td>\n",
       "      <td>W./C. 6607</td>\n",
       "      <td>23.4500</td>\n",
       "      <td>NaN</td>\n",
       "      <td>S</td>\n",
       "    </tr>\n",
       "    <tr>\n",
       "      <th>889</th>\n",
       "      <td>890</td>\n",
       "      <td>1</td>\n",
       "      <td>1</td>\n",
       "      <td>Behr, Mr. Karl Howell</td>\n",
       "      <td>male</td>\n",
       "      <td>26.0</td>\n",
       "      <td>0</td>\n",
       "      <td>0</td>\n",
       "      <td>111369</td>\n",
       "      <td>30.0000</td>\n",
       "      <td>C148</td>\n",
       "      <td>C</td>\n",
       "    </tr>\n",
       "    <tr>\n",
       "      <th>890</th>\n",
       "      <td>891</td>\n",
       "      <td>0</td>\n",
       "      <td>3</td>\n",
       "      <td>Dooley, Mr. Patrick</td>\n",
       "      <td>male</td>\n",
       "      <td>32.0</td>\n",
       "      <td>0</td>\n",
       "      <td>0</td>\n",
       "      <td>370376</td>\n",
       "      <td>7.7500</td>\n",
       "      <td>NaN</td>\n",
       "      <td>Q</td>\n",
       "    </tr>\n",
       "  </tbody>\n",
       "</table>\n",
       "<p>891 rows × 12 columns</p>\n",
       "</div>"
      ],
      "text/plain": [
       "     PassengerId  Survived  Pclass  \\\n",
       "0              1         0       3   \n",
       "1              2         1       1   \n",
       "2              3         1       3   \n",
       "3              4         1       1   \n",
       "4              5         0       3   \n",
       "..           ...       ...     ...   \n",
       "886          887         0       2   \n",
       "887          888         1       1   \n",
       "888          889         0       3   \n",
       "889          890         1       1   \n",
       "890          891         0       3   \n",
       "\n",
       "                                                  Name     Sex   Age  SibSp  \\\n",
       "0                              Braund, Mr. Owen Harris    male  22.0      1   \n",
       "1    Cumings, Mrs. John Bradley (Florence Briggs Th...  female  38.0      1   \n",
       "2                               Heikkinen, Miss. Laina  female  26.0      0   \n",
       "3         Futrelle, Mrs. Jacques Heath (Lily May Peel)  female  35.0      1   \n",
       "4                             Allen, Mr. William Henry    male  35.0      0   \n",
       "..                                                 ...     ...   ...    ...   \n",
       "886                              Montvila, Rev. Juozas    male  27.0      0   \n",
       "887                       Graham, Miss. Margaret Edith  female  19.0      0   \n",
       "888           Johnston, Miss. Catherine Helen \"Carrie\"  female   NaN      1   \n",
       "889                              Behr, Mr. Karl Howell    male  26.0      0   \n",
       "890                                Dooley, Mr. Patrick    male  32.0      0   \n",
       "\n",
       "     Parch            Ticket     Fare Cabin Embarked  \n",
       "0        0         A/5 21171   7.2500   NaN        S  \n",
       "1        0          PC 17599  71.2833   C85        C  \n",
       "2        0  STON/O2. 3101282   7.9250   NaN        S  \n",
       "3        0            113803  53.1000  C123        S  \n",
       "4        0            373450   8.0500   NaN        S  \n",
       "..     ...               ...      ...   ...      ...  \n",
       "886      0            211536  13.0000   NaN        S  \n",
       "887      0            112053  30.0000   B42        S  \n",
       "888      2        W./C. 6607  23.4500   NaN        S  \n",
       "889      0            111369  30.0000  C148        C  \n",
       "890      0            370376   7.7500   NaN        Q  \n",
       "\n",
       "[891 rows x 12 columns]"
      ]
     },
     "execution_count": 6,
     "metadata": {},
     "output_type": "execute_result"
    }
   ],
   "source": [
    "df"
   ]
  },
  {
   "cell_type": "code",
   "execution_count": 7,
   "metadata": {},
   "outputs": [
    {
     "data": {
      "text/html": [
       "<div>\n",
       "<style scoped>\n",
       "    .dataframe tbody tr th:only-of-type {\n",
       "        vertical-align: middle;\n",
       "    }\n",
       "\n",
       "    .dataframe tbody tr th {\n",
       "        vertical-align: top;\n",
       "    }\n",
       "\n",
       "    .dataframe thead th {\n",
       "        text-align: right;\n",
       "    }\n",
       "</style>\n",
       "<table border=\"1\" class=\"dataframe\">\n",
       "  <thead>\n",
       "    <tr style=\"text-align: right;\">\n",
       "      <th></th>\n",
       "      <th>PassengerId</th>\n",
       "      <th>Survived</th>\n",
       "      <th>Pclass</th>\n",
       "      <th>Age</th>\n",
       "      <th>SibSp</th>\n",
       "      <th>Parch</th>\n",
       "      <th>Fare</th>\n",
       "    </tr>\n",
       "  </thead>\n",
       "  <tbody>\n",
       "    <tr>\n",
       "      <th>count</th>\n",
       "      <td>891.000000</td>\n",
       "      <td>891.000000</td>\n",
       "      <td>891.000000</td>\n",
       "      <td>714.000000</td>\n",
       "      <td>891.000000</td>\n",
       "      <td>891.000000</td>\n",
       "      <td>891.000000</td>\n",
       "    </tr>\n",
       "    <tr>\n",
       "      <th>mean</th>\n",
       "      <td>446.000000</td>\n",
       "      <td>0.383838</td>\n",
       "      <td>2.308642</td>\n",
       "      <td>29.699118</td>\n",
       "      <td>0.523008</td>\n",
       "      <td>0.381594</td>\n",
       "      <td>32.204208</td>\n",
       "    </tr>\n",
       "    <tr>\n",
       "      <th>std</th>\n",
       "      <td>257.353842</td>\n",
       "      <td>0.486592</td>\n",
       "      <td>0.836071</td>\n",
       "      <td>14.526497</td>\n",
       "      <td>1.102743</td>\n",
       "      <td>0.806057</td>\n",
       "      <td>49.693429</td>\n",
       "    </tr>\n",
       "    <tr>\n",
       "      <th>min</th>\n",
       "      <td>1.000000</td>\n",
       "      <td>0.000000</td>\n",
       "      <td>1.000000</td>\n",
       "      <td>0.420000</td>\n",
       "      <td>0.000000</td>\n",
       "      <td>0.000000</td>\n",
       "      <td>0.000000</td>\n",
       "    </tr>\n",
       "    <tr>\n",
       "      <th>25%</th>\n",
       "      <td>223.500000</td>\n",
       "      <td>0.000000</td>\n",
       "      <td>2.000000</td>\n",
       "      <td>20.125000</td>\n",
       "      <td>0.000000</td>\n",
       "      <td>0.000000</td>\n",
       "      <td>7.910400</td>\n",
       "    </tr>\n",
       "    <tr>\n",
       "      <th>50%</th>\n",
       "      <td>446.000000</td>\n",
       "      <td>0.000000</td>\n",
       "      <td>3.000000</td>\n",
       "      <td>28.000000</td>\n",
       "      <td>0.000000</td>\n",
       "      <td>0.000000</td>\n",
       "      <td>14.454200</td>\n",
       "    </tr>\n",
       "    <tr>\n",
       "      <th>75%</th>\n",
       "      <td>668.500000</td>\n",
       "      <td>1.000000</td>\n",
       "      <td>3.000000</td>\n",
       "      <td>38.000000</td>\n",
       "      <td>1.000000</td>\n",
       "      <td>0.000000</td>\n",
       "      <td>31.000000</td>\n",
       "    </tr>\n",
       "    <tr>\n",
       "      <th>max</th>\n",
       "      <td>891.000000</td>\n",
       "      <td>1.000000</td>\n",
       "      <td>3.000000</td>\n",
       "      <td>80.000000</td>\n",
       "      <td>8.000000</td>\n",
       "      <td>6.000000</td>\n",
       "      <td>512.329200</td>\n",
       "    </tr>\n",
       "  </tbody>\n",
       "</table>\n",
       "</div>"
      ],
      "text/plain": [
       "       PassengerId    Survived      Pclass         Age       SibSp  \\\n",
       "count   891.000000  891.000000  891.000000  714.000000  891.000000   \n",
       "mean    446.000000    0.383838    2.308642   29.699118    0.523008   \n",
       "std     257.353842    0.486592    0.836071   14.526497    1.102743   \n",
       "min       1.000000    0.000000    1.000000    0.420000    0.000000   \n",
       "25%     223.500000    0.000000    2.000000   20.125000    0.000000   \n",
       "50%     446.000000    0.000000    3.000000   28.000000    0.000000   \n",
       "75%     668.500000    1.000000    3.000000   38.000000    1.000000   \n",
       "max     891.000000    1.000000    3.000000   80.000000    8.000000   \n",
       "\n",
       "            Parch        Fare  \n",
       "count  891.000000  891.000000  \n",
       "mean     0.381594   32.204208  \n",
       "std      0.806057   49.693429  \n",
       "min      0.000000    0.000000  \n",
       "25%      0.000000    7.910400  \n",
       "50%      0.000000   14.454200  \n",
       "75%      0.000000   31.000000  \n",
       "max      6.000000  512.329200  "
      ]
     },
     "execution_count": 7,
     "metadata": {},
     "output_type": "execute_result"
    }
   ],
   "source": [
    "df.describe()"
   ]
  },
  {
   "cell_type": "code",
   "execution_count": 8,
   "metadata": {},
   "outputs": [],
   "source": [
    "#The first thing we must draw our attention to is the field we must predict\n",
    "#which will offer us insight on how to proceed. Survived column consists  \n",
    "#of binary 0 or 1 values, so this project becomes a classification problem.\n",
    "\n",
    "#Now to look at the actual data that we do have. \n",
    "#We have 5 numerical columns; Pclass, Age, SibSp, Parch and Fare\n",
    "#and 5 categorical columsn; Name, Sex Ticket, Cabin and Embarked\n",
    "\n",
    "#There are some that are very clearly delineated for us, such as \n",
    "#PClass {1-3}, Sex{female/male}, Age, Fare, Embarked{S, C, Q}\n",
    "#These do not require much formating to be usable\n",
    "\n",
    "#The left over ones are PassengerID which is an ID field that will I \n",
    "#will naturally drop, the Name class which is a simple string that could \n",
    "#handled if we so wanted using the most common key words technique,\n",
    "#Ticket which is a id number with varying formating, which can possibly\n",
    "#give some formating if used to relate people and collectively determine\n",
    "#the survival rate. There are also Parch and SibSp, which are clearly \n",
    "#usable but have less significant values, as shown by the recurring \n",
    "#values in the percentiles for those two fields. Especially Parch does\n",
    "#not seem like it will yield any value purely by itself, though there may\n",
    "#be a way to combine it. "
   ]
  },
  {
   "cell_type": "code",
   "execution_count": 9,
   "metadata": {},
   "outputs": [],
   "source": [
    "#1.1 - Missing values"
   ]
  },
  {
   "cell_type": "code",
   "execution_count": 10,
   "metadata": {},
   "outputs": [],
   "source": [
    "#Here are the following columns where values were found to be missing\n",
    "#The first was \"Age\""
   ]
  },
  {
   "cell_type": "code",
   "execution_count": 11,
   "metadata": {},
   "outputs": [
    {
     "data": {
      "text/plain": [
       "(177, 13)"
      ]
     },
     "execution_count": 11,
     "metadata": {},
     "output_type": "execute_result"
    }
   ],
   "source": [
    "df[\"Missing\"] = df[\"Age\"].isnull()\n",
    "missing_name = df[df.Missing == True]\n",
    "missing_name.shape\n"
   ]
  },
  {
   "cell_type": "code",
   "execution_count": 12,
   "metadata": {},
   "outputs": [
    {
     "data": {
      "text/plain": [
       "(687, 13)"
      ]
     },
     "execution_count": 12,
     "metadata": {},
     "output_type": "execute_result"
    }
   ],
   "source": [
    "#in \"Cabin\"\n",
    "df[\"Missing\"] = df[\"Cabin\"].isnull()\n",
    "missing_name = df[df.Missing == True]\n",
    "missing_name.shape # a large ammount missing here? Perhaps remove"
   ]
  },
  {
   "cell_type": "code",
   "execution_count": 13,
   "metadata": {},
   "outputs": [
    {
     "data": {
      "text/plain": [
       "(2, 13)"
      ]
     },
     "execution_count": 13,
     "metadata": {},
     "output_type": "execute_result"
    }
   ],
   "source": [
    "#and lastly in \"Embarked\"\n",
    "df[\"Missing\"] = df[\"Embarked\"].isnull()\n",
    "missing_name = df[df.Missing == True]\n",
    "missing_name.shape"
   ]
  },
  {
   "cell_type": "code",
   "execution_count": 14,
   "metadata": {},
   "outputs": [],
   "source": [
    "#remove the extra column\n",
    "df = df.drop([\"Missing\"], axis = 1)"
   ]
  },
  {
   "cell_type": "code",
   "execution_count": 15,
   "metadata": {},
   "outputs": [],
   "source": [
    "#First immediately actionable step - the missing values for cabin are over half the dataset, and given that the data is\n",
    "#not intuitively useful, I will drop the column as to not corrupt the data. This is not to say this is the only course\n",
    "#of action that could have been taken, we could have combined it with a different column, however in this case I do\n",
    "#not feel it was needed.\n",
    "df = df.drop([\"Cabin\"], axis = 1) #not enough data"
   ]
  },
  {
   "cell_type": "code",
   "execution_count": 16,
   "metadata": {},
   "outputs": [],
   "source": [
    "#2.2 Outliers \n",
    "#There are techniques far and wide to handle outliers in data. The choice is a matter of expertise as well \n",
    "#as personal taste. \n",
    "#In the name of perserving as much data as possible, especially because we have a relatively small number of rows \n",
    "#compared to the usual standard, I will not drop the rows with the missing values. Instead, I shall replace it with \n",
    "#values that will not skew the data significantly. For numerical data, I will replace the empty value using \n",
    "#percentiles and I shall use the mode for categorical data."
   ]
  },
  {
   "cell_type": "code",
   "execution_count": 17,
   "metadata": {},
   "outputs": [
    {
     "data": {
      "text/plain": [
       "<matplotlib.axes._subplots.AxesSubplot at 0x2289cf54a60>"
      ]
     },
     "execution_count": 17,
     "metadata": {},
     "output_type": "execute_result"
    },
    {
     "data": {
      "image/png": "[encoded data removed]",
      "text/plain": [
       "<Figure size 432x288 with 1 Axes>"
      ]
     },
     "metadata": {
      "needs_background": "light"
     },
     "output_type": "display_data"
    }
   ],
   "source": [
    "#Age\n",
    "df.boxplot(column=\"Age\")"
   ]
  },
  {
   "cell_type": "code",
   "execution_count": 18,
   "metadata": {},
   "outputs": [],
   "source": [
    "nan_05 = np.nanpercentile(df[\"Age\"],5)\n",
    "nan_95 = np.nanpercentile(df[\"Age\"],95) \n",
    "df[\"Age\"]= df[\"Age\"].apply(lambda x: nan_95 if x > nan_95 else x)\n",
    "df[\"Age\"]= df[\"Age\"].apply(lambda x: nan_05 if x < nan_05 else x)"
   ]
  },
  {
   "cell_type": "code",
   "execution_count": 19,
   "metadata": {},
   "outputs": [],
   "source": [
    "age_mean = df[\"Age\"].mean()\n",
    "df[\"Age\"] =df[\"Age\"].apply(lambda x: age_mean if np.isnan(x) else x)"
   ]
  },
  {
   "cell_type": "code",
   "execution_count": 20,
   "metadata": {},
   "outputs": [
    {
     "data": {
      "text/plain": [
       "<matplotlib.axes._subplots.AxesSubplot at 0x2289d2881f0>"
      ]
     },
     "execution_count": 20,
     "metadata": {},
     "output_type": "execute_result"
    },
    {
     "data": {
      "image/png": "[encoded data removed]",
      "text/plain": [
       "<Figure size 432x288 with 1 Axes>"
      ]
     },
     "metadata": {
      "needs_background": "light"
     },
     "output_type": "display_data"
    }
   ],
   "source": [
    "df.boxplot(column=\"Age\")"
   ]
  },
  {
   "cell_type": "code",
   "execution_count": 21,
   "metadata": {},
   "outputs": [
    {
     "data": {
      "text/plain": [
       "S    644\n",
       "C    168\n",
       "Q     77\n",
       "Name: Embarked, dtype: int64"
      ]
     },
     "execution_count": 21,
     "metadata": {},
     "output_type": "execute_result"
    }
   ],
   "source": [
    "#Embarked\n",
    "df[\"Embarked\"].value_counts()"
   ]
  },
  {
   "cell_type": "code",
   "execution_count": 22,
   "metadata": {},
   "outputs": [],
   "source": [
    "df[\"Embarked\"] = df[\"Embarked\"].apply(lambda x: \"S\" if pd.isnull(x) else x)"
   ]
  },
  {
   "cell_type": "code",
   "execution_count": 23,
   "metadata": {},
   "outputs": [
    {
     "data": {
      "text/plain": [
       "S    646\n",
       "C    168\n",
       "Q     77\n",
       "Name: Embarked, dtype: int64"
      ]
     },
     "execution_count": 23,
     "metadata": {},
     "output_type": "execute_result"
    }
   ],
   "source": [
    "df[\"Embarked\"].value_counts()"
   ]
  },
  {
   "cell_type": "code",
   "execution_count": 24,
   "metadata": {},
   "outputs": [
    {
     "data": {
      "text/plain": [
       "<matplotlib.axes._subplots.AxesSubplot at 0x2289d2cb160>"
      ]
     },
     "execution_count": 24,
     "metadata": {},
     "output_type": "execute_result"
    },
    {
     "data": {
      "image/png": "[encoded data removed]",
      "text/plain": [
       "<Figure size 432x288 with 1 Axes>"
      ]
     },
     "metadata": {
      "needs_background": "light"
     },
     "output_type": "display_data"
    }
   ],
   "source": [
    "#Finally remove outliers in data without nans\n",
    "df.boxplot(column=\"Pclass\")"
   ]
  },
  {
   "cell_type": "code",
   "execution_count": 25,
   "metadata": {},
   "outputs": [
    {
     "data": {
      "text/plain": [
       "<matplotlib.axes._subplots.AxesSubplot at 0x2289d3484c0>"
      ]
     },
     "execution_count": 25,
     "metadata": {},
     "output_type": "execute_result"
    },
    {
     "data": {
      "image/png": "[encoded data removed]",
      "text/plain": [
       "<Figure size 432x288 with 1 Axes>"
      ]
     },
     "metadata": {
      "needs_background": "light"
     },
     "output_type": "display_data"
    }
   ],
   "source": [
    "df.boxplot(column=\"Fare\")"
   ]
  },
  {
   "cell_type": "code",
   "execution_count": 26,
   "metadata": {},
   "outputs": [],
   "source": [
    "fare_05 = np.percentile(df[\"Fare\"], 5)\n",
    "fare_95 = np.percentile(df[\"Fare\"], 85)\n",
    "df[\"Fare\"] = df[\"Fare\"].apply(lambda x: fare_05 if x < fare_05 else x)\n",
    "df[\"Fare\"] = df[\"Fare\"].apply(lambda x: fare_95 if x > fare_95 else x)"
   ]
  },
  {
   "cell_type": "code",
   "execution_count": 27,
   "metadata": {},
   "outputs": [
    {
     "data": {
      "text/plain": [
       "<matplotlib.axes._subplots.AxesSubplot at 0x228983474f0>"
      ]
     },
     "execution_count": 27,
     "metadata": {},
     "output_type": "execute_result"
    },
    {
     "data": {
      "image/png": "[encoded data removed]",
      "text/plain": [
       "<Figure size 432x288 with 1 Axes>"
      ]
     },
     "metadata": {
      "needs_background": "light"
     },
     "output_type": "display_data"
    }
   ],
   "source": [
    "df.boxplot(column=\"Fare\")"
   ]
  },
  {
   "cell_type": "code",
   "execution_count": 28,
   "metadata": {},
   "outputs": [
    {
     "data": {
      "text/plain": [
       "<matplotlib.axes._subplots.AxesSubplot at 0x2289d2cb100>"
      ]
     },
     "execution_count": 28,
     "metadata": {},
     "output_type": "execute_result"
    },
    {
     "data": {
      "image/png": "[encoded data removed]",
      "text/plain": [
       "<Figure size 432x288 with 1 Axes>"
      ]
     },
     "metadata": {
      "needs_background": "light"
     },
     "output_type": "display_data"
    }
   ],
   "source": [
    "df.boxplot(column=\"SibSp\")"
   ]
  },
  {
   "cell_type": "code",
   "execution_count": 29,
   "metadata": {},
   "outputs": [],
   "source": [
    "Sib_05 = np.percentile(df[\"SibSp\"], 5)\n",
    "Sib_95 = np.percentile(df[\"SibSp\"], 90)\n",
    "df[\"SibSp\"] = df[\"SibSp\"].apply(lambda x: Sib_05 if x < Sib_05 else x)\n",
    "df[\"SibSp\"] = df[\"SibSp\"].apply(lambda x: Sib_95 if x > Sib_95 else x)"
   ]
  },
  {
   "cell_type": "code",
   "execution_count": 30,
   "metadata": {},
   "outputs": [
    {
     "data": {
      "text/plain": [
       "<matplotlib.axes._subplots.AxesSubplot at 0x2289d46ac40>"
      ]
     },
     "execution_count": 30,
     "metadata": {},
     "output_type": "execute_result"
    },
    {
     "data": {
      "image/png": "[encoded data removed]",
      "text/plain": [
       "<Figure size 432x288 with 1 Axes>"
      ]
     },
     "metadata": {
      "needs_background": "light"
     },
     "output_type": "display_data"
    }
   ],
   "source": [
    "df.boxplot(column =\"SibSp\")"
   ]
  },
  {
   "cell_type": "code",
   "execution_count": 31,
   "metadata": {},
   "outputs": [
    {
     "data": {
      "text/plain": [
       "<matplotlib.axes._subplots.AxesSubplot at 0x2289d4b2820>"
      ]
     },
     "execution_count": 31,
     "metadata": {},
     "output_type": "execute_result"
    },
    {
     "data": {
      "image/png": "[encoded data removed]",
      "text/plain": [
       "<Figure size 432x288 with 1 Axes>"
      ]
     },
     "metadata": {
      "needs_background": "light"
     },
     "output_type": "display_data"
    }
   ],
   "source": [
    "df.boxplot(column=\"Parch\")"
   ]
  },
  {
   "cell_type": "code",
   "execution_count": 32,
   "metadata": {},
   "outputs": [],
   "source": [
    "#wow??? - what a thing\n",
    "#This is quite a goofy-looking column, I must admit it is giving me much enjoyment"
   ]
  },
  {
   "cell_type": "code",
   "execution_count": 33,
   "metadata": {},
   "outputs": [],
   "source": [
    "Par_05 = np.percentile(df[\"Parch\"], 5)\n",
    "Par_95 = np.percentile(df[\"Parch\"], 75)\n",
    "df[\"Parch\"] = df[\"Parch\"].apply(lambda x: Par_05 if x < Par_05 else x)\n",
    "df[\"Parch\"] = df[\"Parch\"].apply(lambda x: Par_95 if x > Par_95 else x)"
   ]
  },
  {
   "cell_type": "code",
   "execution_count": 34,
   "metadata": {},
   "outputs": [
    {
     "data": {
      "text/plain": [
       "<matplotlib.axes._subplots.AxesSubplot at 0x2289d51ad00>"
      ]
     },
     "execution_count": 34,
     "metadata": {},
     "output_type": "execute_result"
    },
    {
     "data": {
      "image/png": "[encoded data removed]",
      "text/plain": [
       "<Figure size 432x288 with 1 Axes>"
      ]
     },
     "metadata": {
      "needs_background": "light"
     },
     "output_type": "display_data"
    }
   ],
   "source": [
    "df.boxplot(column=\"Parch\") #Wow"
   ]
  },
  {
   "cell_type": "code",
   "execution_count": 35,
   "metadata": {},
   "outputs": [],
   "source": [
    "#1.3 Dropping columns\n",
    "\n",
    "#An unorthodox choice perhaps, but in the interests of keeping my data clean, I will simply drop columns that do\n",
    "#not fit my current strategy for aproaching the dataset, which relies on binning data acording to visual insight.\n",
    "#In future work, these columns would most certainly be useful if we were to attempt to group families in order\n",
    "#to gain insight. Especially name and Parch. Another time."
   ]
  },
  {
   "cell_type": "code",
   "execution_count": 36,
   "metadata": {},
   "outputs": [],
   "source": [
    "df=df.drop(\"Ticket\", axis=1)"
   ]
  },
  {
   "cell_type": "code",
   "execution_count": 37,
   "metadata": {},
   "outputs": [],
   "source": [
    "df=df.drop(\"PassengerId\", axis=1)"
   ]
  },
  {
   "cell_type": "code",
   "execution_count": 38,
   "metadata": {},
   "outputs": [],
   "source": [
    "df= df.drop(\"Name\", axis=1)"
   ]
  },
  {
   "cell_type": "code",
   "execution_count": 39,
   "metadata": {},
   "outputs": [],
   "source": [
    "df= df.drop(\"Parch\", axis=1)"
   ]
  },
  {
   "cell_type": "code",
   "execution_count": 40,
   "metadata": {},
   "outputs": [],
   "source": [
    "#Part 2 - Exploratory Data Analysis\n",
    "#Here onwards we have to choose a path; to build a model using categorical data, numerical data or both? That is the\n",
    "#question. While the effectiveness of one versus the othr is not the point of this notebook, it should suffice to say \n",
    "#that I tried both options for this specific data and found that categorical data generally performs better.\n",
    "\n",
    "#So we have chosen categorical data, and now we move on to the star of this stage. This is an exploratory notebook \n",
    "#which concentrates on pushing the limits of pure categorical data derived from insights. This relies on the ability \n",
    "#of a person to see the trends in the data with the help of visual representation."
   ]
  },
  {
   "cell_type": "code",
   "execution_count": 41,
   "metadata": {},
   "outputs": [
    {
     "data": {
      "text/plain": [
       "Index(['Survived', 'Pclass', 'Sex', 'Age', 'SibSp', 'Fare', 'Embarked'], dtype='object')"
      ]
     },
     "execution_count": 41,
     "metadata": {},
     "output_type": "execute_result"
    }
   ],
   "source": [
    "#Lets look at what we have to work with\n",
    "df.columns"
   ]
  },
  {
   "cell_type": "code",
   "execution_count": 42,
   "metadata": {},
   "outputs": [],
   "source": [
    "#2.1 Correlation Matrix\n",
    "#Ever essential, the most important tool, and our most faithful asistant to help us quickly reach convergence.\n",
    "#The correlation matrix allows us to see multicolinearity between variables, which we want to nip at the root."
   ]
  },
  {
   "cell_type": "code",
   "execution_count": 43,
   "metadata": {},
   "outputs": [
    {
     "data": {
      "text/plain": [
       "<matplotlib.axes._subplots.AxesSubplot at 0x2289d590700>"
      ]
     },
     "execution_count": 43,
     "metadata": {},
     "output_type": "execute_result"
    },
    {
     "data": {
      "image/png": "[encoded data removed]",
      "text/plain": [
       "<Figure size 432x288 with 2 Axes>"
      ]
     },
     "metadata": {
      "needs_background": "light"
     },
     "output_type": "display_data"
    }
   ],
   "source": [
    "cmap = sns.diverging_palette(220,10,as_cmap=True)\n",
    "sns.heatmap(df.corr(), linewidths=.5, cmap = cmap, annot=True)"
   ]
  },
  {
   "cell_type": "code",
   "execution_count": 44,
   "metadata": {},
   "outputs": [],
   "source": [
    "#Thoughts; \n",
    "#Ignoring the Survived Column which we want to be correlated with all the variables, we can see the highest values are \n",
    "#the following;\n",
    "#0.73 negative correlation between Pclass and Fare - we need to handle that for sure\n",
    "#0.34 negative correlation between Pclass and Age\n",
    "#0.40 positive correlation between Fare and SibSP\n",
    "#these clases need to be combined, in one form or the other.\n",
    "#It seems that the biggest offenders are Pclass and Fare, so we will take extra care with that"
   ]
  },
  {
   "cell_type": "code",
   "execution_count": 45,
   "metadata": {},
   "outputs": [],
   "source": [
    "#It is also important to bin the continous values to convert them to categorical, so we will\n",
    "#look at each attribute in turn, so we will begin with that "
   ]
  },
  {
   "cell_type": "code",
   "execution_count": 46,
   "metadata": {},
   "outputs": [],
   "source": [
    "#2.2 Sex - 1/6\n",
    "#The data is properly split into categorical values and  does not need any combining, so we do not need to touch it"
   ]
  },
  {
   "cell_type": "code",
   "execution_count": 47,
   "metadata": {},
   "outputs": [
    {
     "data": {
      "image/png": "[encoded data removed]",
      "text/plain": [
       "<Figure size 432x288 with 1 Axes>"
      ]
     },
     "metadata": {
      "needs_background": "light"
     },
     "output_type": "display_data"
    }
   ],
   "source": [
    "sns.countplot(y=\"Sex\", data=df);"
   ]
  },
  {
   "cell_type": "code",
   "execution_count": 48,
   "metadata": {},
   "outputs": [],
   "source": [
    "#2.3 Embarked - 2/6\n",
    "#Once more the data is properly binned and independent, so we can move beyond this one as well"
   ]
  },
  {
   "cell_type": "code",
   "execution_count": 49,
   "metadata": {
    "scrolled": true
   },
   "outputs": [
    {
     "data": {
      "text/plain": [
       "<matplotlib.axes._subplots.AxesSubplot at 0x2289d6c0430>"
      ]
     },
     "execution_count": 49,
     "metadata": {},
     "output_type": "execute_result"
    },
    {
     "data": {
      "image/png": "[encoded data removed]",
      "text/plain": [
       "<Figure size 432x288 with 1 Axes>"
      ]
     },
     "metadata": {
      "needs_background": "light"
     },
     "output_type": "display_data"
    }
   ],
   "source": [
    "sns.countplot(\"Embarked\", data = df)"
   ]
  },
  {
   "cell_type": "code",
   "execution_count": 50,
   "metadata": {},
   "outputs": [],
   "source": [
    "#2.4 Pclass - 3/6 \n",
    "#It is nicely split, but this data will be dropoed later so it makes no difference"
   ]
  },
  {
   "cell_type": "code",
   "execution_count": 51,
   "metadata": {},
   "outputs": [
    {
     "data": {
      "text/plain": [
       "<matplotlib.axes._subplots.AxesSubplot at 0x2289d718730>"
      ]
     },
     "execution_count": 51,
     "metadata": {},
     "output_type": "execute_result"
    },
    {
     "data": {
      "image/png": "[encoded data removed]",
      "text/plain": [
       "<Figure size 432x288 with 1 Axes>"
      ]
     },
     "metadata": {
      "needs_background": "light"
     },
     "output_type": "display_data"
    }
   ],
   "source": [
    "sns.countplot(\"Pclass\", data = df)"
   ]
  },
  {
   "cell_type": "code",
   "execution_count": 52,
   "metadata": {},
   "outputs": [],
   "source": [
    "#2.5 Age - 4/6 \n",
    "#This class will remain within the dataset but must be split acordingly\n",
    "#Lets create several columns to represent which part of the Age graph the value is in\n",
    "#These new columns will only hold 0 or 1"
   ]
  },
  {
   "cell_type": "code",
   "execution_count": 53,
   "metadata": {},
   "outputs": [
    {
     "data": {
      "text/plain": [
       "<matplotlib.axes._subplots.AxesSubplot at 0x2289d74b7c0>"
      ]
     },
     "execution_count": 53,
     "metadata": {},
     "output_type": "execute_result"
    },
    {
     "data": {
      "image/png": "[encoded data removed]",
      "text/plain": [
       "<Figure size 432x288 with 1 Axes>"
      ]
     },
     "metadata": {
      "needs_background": "light"
     },
     "output_type": "display_data"
    }
   ],
   "source": [
    "sns.distplot(df[\"Age\"])"
   ]
  },
  {
   "cell_type": "code",
   "execution_count": 54,
   "metadata": {},
   "outputs": [
    {
     "data": {
      "text/plain": [
       "<matplotlib.axes._subplots.AxesSubplot at 0x2289d7ffcd0>"
      ]
     },
     "execution_count": 54,
     "metadata": {},
     "output_type": "execute_result"
    },
    {
     "data": {
      "image/png": "[encoded data removed]",
      "text/plain": [
       "<Figure size 432x288 with 1 Axes>"
      ]
     },
     "metadata": {
      "needs_background": "light"
     },
     "output_type": "display_data"
    }
   ],
   "source": [
    "sns.distplot(df[df[\"Survived\"] == 0][\"Age\"], kde_kws={\"label\":\"0\"})\n",
    "sns.distplot(df[df[\"Survived\"] == 1][\"Age\"], kde_kws={\"label\":\"1\"})"
   ]
  },
  {
   "cell_type": "code",
   "execution_count": 55,
   "metadata": {},
   "outputs": [],
   "source": [
    "df[\"Age_One\"] = df[\"Age\"].apply(lambda x: 1 if x <= 10 else 0)\n",
    "df[\"Age_Two\"] = df[\"Age\"].apply(lambda x: 1 if x > 10 and x <= 20 else 0)\n",
    "df[\"Age_Three\"] = df[\"Age\"].apply(lambda x: 1 if x > 20 and x <= 25 else 0) #20 to 25???\n",
    "df[\"Age_Four\"] = df[\"Age\"].apply(lambda x: 1 if x > 25 and x <= 35 else 0)\n",
    "df[\"Age_Five\"] = df[\"Age\"].apply(lambda x: 1 if x > 35 and x <= 40 else 0)\n",
    "df[\"Age_Six\"] = df[\"Age\"].apply(lambda x: 1 if x > 40 and x <= 50 else 0)\n",
    "df[\"Age_Seven\"] = df[\"Age\"].apply(lambda x: 1 if x > 50 and x <= 60 else 0)\n",
    "df[\"Age_Eight\"] = df[\"Age\"].apply(lambda x: 1 if x > 60 else 0)"
   ]
  },
  {
   "cell_type": "code",
   "execution_count": 56,
   "metadata": {},
   "outputs": [
    {
     "data": {
      "text/plain": [
       "<matplotlib.axes._subplots.AxesSubplot at 0x2289d828dc0>"
      ]
     },
     "execution_count": 56,
     "metadata": {},
     "output_type": "execute_result"
    },
    {
     "data": {
      "image/png": "[encoded data removed]",
      "text/plain": [
       "<Figure size 432x288 with 1 Axes>"
      ]
     },
     "metadata": {
      "needs_background": "light"
     },
     "output_type": "display_data"
    }
   ],
   "source": [
    "#2.5 Fare - 5/6\n",
    "#We could follow the same method used for Age, but this is another column that will be dropped, so we leave as is\n",
    "sns.distplot(df[\"Fare\"])"
   ]
  },
  {
   "cell_type": "code",
   "execution_count": 57,
   "metadata": {},
   "outputs": [
    {
     "data": {
      "text/plain": [
       "<matplotlib.axes._subplots.AxesSubplot at 0x2289d9309a0>"
      ]
     },
     "execution_count": 57,
     "metadata": {},
     "output_type": "execute_result"
    },
    {
     "data": {
      "image/png": "[encoded data removed]",
      "text/plain": [
       "<Figure size 432x288 with 1 Axes>"
      ]
     },
     "metadata": {
      "needs_background": "light"
     },
     "output_type": "display_data"
    }
   ],
   "source": [
    "#2.7 SibSp - 6/6\n",
    "#The final class, this one will also remain and so we must bin it. However, while it is a continous value, it has\n",
    "#already been split in practice, so this is a farely simple matter. Simply split to values of 0 and 1, though we will\n",
    "#use values greater than 0 for the second column just in case the data were to introduce greater values\n",
    "df[\"SibSp\"].hist()"
   ]
  },
  {
   "cell_type": "code",
   "execution_count": 58,
   "metadata": {},
   "outputs": [],
   "source": [
    "df[\"SibSp_0\"] = df[\"SibSp\"].apply(lambda x: 1 if(x == 0) else 0)\n",
    "df[\"SibSp_1\"] = df[\"SibSp\"].apply(lambda x: 1 if(x > 0) else 0)"
   ]
  },
  {
   "cell_type": "code",
   "execution_count": 59,
   "metadata": {},
   "outputs": [],
   "source": [
    "#Prelude: \n",
    "#The next section continues with the combination of various fields in order to give the algorithms better information\n",
    "#from the start. We will combine values as seen discussed previously to remove\n",
    "#multicolinearity, and we will also combine values in relation to my own domain \n",
    "#knowledge about theings that are likely to affect the priority of the people who \n",
    "#lived back then in that time. Again we will focus on dividing the data into sub categories\n",
    "#where a row can have a value of 1 if it is in that category, otherwise it will have a value of 0"
   ]
  },
  {
   "cell_type": "code",
   "execution_count": 60,
   "metadata": {},
   "outputs": [],
   "source": [
    "#2.8 Combinatory values - Sex and Age\n",
    "#Firstly, I'd like to begin with some domain knowledge. It is quite likely that women\n",
    "#and children were let off the boat with higher priority than those not belonging to\n",
    "#those categories, and perhaps a combination of those two values may give us even\n",
    "#greater insight into the solution of the problem. "
   ]
  },
  {
   "cell_type": "code",
   "execution_count": 61,
   "metadata": {},
   "outputs": [
    {
     "data": {
      "image/png": "[encoded data removed]",
      "text/plain": [
       "<Figure size 432x288 with 1 Axes>"
      ]
     },
     "metadata": {
      "needs_background": "light"
     },
     "output_type": "display_data"
    }
   ],
   "source": [
    "sns.violinplot(x='Sex', y='Age', hue='Survived', data=df, split=True, scale='count');"
   ]
  },
  {
   "cell_type": "code",
   "execution_count": 62,
   "metadata": {},
   "outputs": [],
   "source": [
    "#Observations regarding Sex and Age ---\n",
    "#There is a very clear division here, confirming our choice of combinatorial\n",
    "#values. \n",
    "#Notice the two peaks that occur around 30 for men and 35 for women which have\n",
    "#completely inverse survival rates. These must definetly considered.\n",
    "#We must split the periods of rapid growth and rapid decrease that happen\n",
    "#around the peaks, thus we must split into much smaller groups. \n",
    "\n",
    "#Here are the following chosen divisions:\n",
    "#Women divisions ->\n",
    "#over 60 \n",
    "#60 to 40 \n",
    "#40 to 35 \n",
    "#35 to 20 \n",
    "#20 to 15\n",
    "#15 to 10\n",
    "#10 to 0\n",
    "# men divisions ->\n",
    "# over 60 \n",
    "#60 to 40 \n",
    "#40 to 35 \n",
    "#35 to 25 \n",
    "#25 to 20 \n",
    "#20 to 18 \n",
    "#18 to 10 \n",
    "#10 to 0 "
   ]
  },
  {
   "cell_type": "code",
   "execution_count": 63,
   "metadata": {},
   "outputs": [],
   "source": [
    "#Women age\n",
    "df[\"Womeno60\"] =df.apply(lambda x: 1 if (x.Sex == \"female\" and x.Age >= 60) else 0, axis=1)\n",
    "df[\"Women6040\"] =df.apply(lambda x: 1 if (x.Sex == \"female\" and x.Age < 60 and x.Age >= 40) else 0, axis=1)\n",
    "df[\"Women4035\"] =df.apply(lambda x: 1 if (x.Sex == \"female\" and x.Age < 40 and x.Age >= 35) else 0, axis=1)\n",
    "df[\"Women3520\"] =df.apply(lambda x: 1 if (x.Sex == \"female\" and x.Age < 35 and x.Age >= 20) else 0, axis=1)\n",
    "df[\"Women2015\"] =df.apply(lambda x: 1 if (x.Sex == \"female\" and x.Age < 20 and x.Age >= 15) else 0, axis=1)\n",
    "df[\"Women1510\"] =df.apply(lambda x: 1 if (x.Sex == \"female\" and x.Age < 15 and x.Age >= 10) else 0, axis=1)\n",
    "df[\"Womenu10\"] =df.apply(lambda x: 1 if (x.Sex == \"female\" and x.Age < 10) else 0, axis=1)\n"
   ]
  },
  {
   "cell_type": "code",
   "execution_count": 64,
   "metadata": {},
   "outputs": [],
   "source": [
    "#Men age\n",
    "df[\"Meno60\"] =df.apply(lambda x: 1 if (x.Sex == \"male\" and x.Age >= 60) else 0, axis=1)\n",
    "df[\"Men6040\"] =df.apply(lambda x: 1 if (x.Sex == \"male\" and x.Age < 60 and x.Age >= 40) else 0, axis=1)\n",
    "df[\"Men4035\"] =df.apply(lambda x: 1 if (x.Sex == \"male\" and x.Age < 40 and x.Age >= 35) else 0, axis=1)\n",
    "df[\"Men3525\"] =df.apply(lambda x: 1 if (x.Sex == \"male\" and x.Age < 35 and x.Age >= 25) else 0, axis=1)\n",
    "df[\"Men2520\"] =df.apply(lambda x: 1 if (x.Sex == \"male\" and x.Age < 25 and x.Age >= 20) else 0, axis=1)\n",
    "df[\"Men2018\"] =df.apply(lambda x: 1 if (x.Sex == \"male\" and x.Age < 20 and x.Age >= 18) else 0, axis=1)\n",
    "df[\"Men1810\"] =df.apply(lambda x: 1 if (x.Sex == \"male\" and x.Age < 15 and x.Age >= 10) else 0, axis=1)\n",
    "df[\"Menu10\"] =df.apply(lambda x: 1 if (x.Sex == \"male\" and x.Age < 10) else 0, axis=1)\n"
   ]
  },
  {
   "cell_type": "code",
   "execution_count": 65,
   "metadata": {},
   "outputs": [],
   "source": [
    "#2.9 Combinatory values - Pclass and Age\n",
    "#These two are interesting; there are different spreads of ages in each class\n",
    "#as shown in the graph below, as there were more elderly in class 1 than in any\n",
    "#other class, quite a bit of people died in class 1, contrary to what one would\n",
    "#expect. On the other hand the sample size of class 3 is much smaller than the \n",
    "#others, which may make classifiying those in that class harder."
   ]
  },
  {
   "cell_type": "code",
   "execution_count": 66,
   "metadata": {
    "scrolled": true
   },
   "outputs": [
    {
     "data": {
      "image/png": "[encoded data removed]",
      "text/plain": [
       "<Figure size 432x288 with 1 Axes>"
      ]
     },
     "metadata": {
      "needs_background": "light"
     },
     "output_type": "display_data"
    }
   ],
   "source": [
    "sns.violinplot(x='Pclass', y='Age', hue='Survived', data=df, split=True, scale='count');"
   ]
  },
  {
   "cell_type": "code",
   "execution_count": 67,
   "metadata": {},
   "outputs": [],
   "source": [
    "#Observations Regarding Class and Age --\n",
    "#There is quite a large peak at the third class from 25 to 30, which dominates\n",
    "#most of that graph, the only significant factor for survival in class 3 is\n",
    "#from 25 to 30, the same as the peak. Therefore, it will probably be hard to\n",
    "#predict. \n",
    "#In class 2 again, the peak in both directions is in the same place, but there\n",
    "#is quite a significance after age 15 in terms of survival so that will probably\n",
    "#be an indicator. \n",
    "#lass one follow the same pattern, there is only a great difference around 35 to\n",
    "#45.\n",
    "\n",
    "#Passenger Class Age\n",
    "# Pclass 3 divisions ->\n",
    "#over 42\n",
    "#42 to 25\n",
    "#25 to 15 \n",
    "#15 to 10\n",
    "#10 to 0 \n",
    "#Plcass 2 divisions -> \n",
    "#over 60\n",
    "#60 to 40\n",
    "#40 to 30\n",
    "#30 to 25\n",
    "#25 to 20\n",
    "#20 to 15\n",
    "#15 yo 0\n",
    "#Pclass 1 divisions ->\n",
    "#over 70\n",
    "#70 to 55\n",
    "#55 to 45\n",
    "#45 to 35\n",
    "#35 to 20\n",
    "#20 to 10\n",
    "#10 to 0"
   ]
  },
  {
   "cell_type": "code",
   "execution_count": 68,
   "metadata": {},
   "outputs": [],
   "source": [
    "#Pclass 3 age\n",
    "df[\"Class3o42\"] =df.apply(lambda x: 1 if (x.Pclass == 3 and x.Age >= 42) else 0, axis=1)\n",
    "df[\"Class34225\"] =df.apply(lambda x: 1 if (x.Pclass == 3 and x.Age < 42 and x.Age >= 25) else 0, axis=1)\n",
    "df[\"Class32515\"] =df.apply(lambda x: 1 if (x.Pclass == 3 and x.Age < 25 and x.Age >= 15) else 0, axis=1)\n",
    "df[\"Class31510\"] =df.apply(lambda x: 1 if (x.Pclass == 3 and x.Age < 15 and x.Age >= 10) else 0, axis=1)\n",
    "df[\"Class3u10\"] =df.apply(lambda x: 1 if (x.Pclass == 3 and x.Age < 10) else 0, axis=1)"
   ]
  },
  {
   "cell_type": "code",
   "execution_count": 69,
   "metadata": {},
   "outputs": [],
   "source": [
    "#Pclass 2 age\n",
    "df[\"Class2o60\"] =df.apply(lambda x: 1 if (x.Pclass == 2 and x.Age >= 60) else 0, axis=1)\n",
    "df[\"Class26040\"] =df.apply(lambda x: 1 if (x.Pclass == 2 and x.Age < 60 and x.Age >= 40) else 0, axis=1)\n",
    "df[\"Class24030\"] =df.apply(lambda x: 1 if (x.Pclass == 2 and x.Age < 40 and x.Age >= 30) else 0, axis=1)\n",
    "df[\"Class23025\"] =df.apply(lambda x: 1 if (x.Pclass == 2 and x.Age < 30 and x.Age >= 25) else 0, axis=1)\n",
    "df[\"Class22520\"] =df.apply(lambda x: 1 if (x.Pclass == 2 and x.Age < 25 and x.Age >= 20) else 0, axis=1)\n",
    "df[\"Class22015\"] =df.apply(lambda x: 1 if (x.Pclass == 2 and x.Age < 20 and x.Age >= 15) else 0, axis=1)\n",
    "df[\"Class2u15\"] =df.apply(lambda x: 1 if (x.Pclass == 2 and x.Age < 15 ) else 0, axis=1)\n"
   ]
  },
  {
   "cell_type": "code",
   "execution_count": 70,
   "metadata": {},
   "outputs": [],
   "source": [
    "#Pclass 1 age\n",
    "df[\"Class1o70\"] =df.apply(lambda x: 1 if (x.Pclass == 1 and x.Age >= 70) else 0, axis=1)\n",
    "df[\"Class17055\"] =df.apply(lambda x: 1 if (x.Pclass == 1 and x.Age < 70 and x.Age >= 55) else 0, axis=1)\n",
    "df[\"Class15545\"] =df.apply(lambda x: 1 if (x.Pclass == 1 and x.Age < 55 and x.Age >= 45) else 0, axis=1)\n",
    "df[\"Class14535\"] =df.apply(lambda x: 1 if (x.Pclass == 1 and x.Age < 45 and x.Age >= 35) else 0, axis=1)\n",
    "df[\"Class13520\"] =df.apply(lambda x: 1 if (x.Pclass == 1 and x.Age < 35 and x.Age >= 20) else 0, axis=1)\n",
    "df[\"Class12010\"] =df.apply(lambda x: 1 if (x.Pclass == 1 and x.Age < 20 and x.Age >= 10) else 0, axis=1)\n",
    "df[\"Class1u10\"] =df.apply(lambda x: 1 if (x.Pclass == 1 and x.Age < 10 ) else 0, axis=1)"
   ]
  },
  {
   "cell_type": "code",
   "execution_count": 71,
   "metadata": {},
   "outputs": [],
   "source": [
    "#2.10 Combinatory values - Fare and Class\n",
    "#Now this is interesting for sure. It seemsthere is a pattern of a lower fare leading to a \n",
    "#lower survival rate across all three classes. Perhaps the cabins with lower fares were lower in \n",
    "#the ship's structure? There does not seem to be any correlation at all for class 3 though."
   ]
  },
  {
   "cell_type": "code",
   "execution_count": 72,
   "metadata": {
    "scrolled": true
   },
   "outputs": [
    {
     "data": {
      "image/png": "[encoded data removed]",
      "text/plain": [
       "<Figure size 432x288 with 1 Axes>"
      ]
     },
     "metadata": {
      "needs_background": "light"
     },
     "output_type": "display_data"
    }
   ],
   "source": [
    "sns.violinplot(x='Pclass', y='Fare', hue='Survived', data=df, split=True, scale='count');"
   ]
  },
  {
   "cell_type": "code",
   "execution_count": 73,
   "metadata": {},
   "outputs": [],
   "source": [
    "#Observations Regarding Class and Fare --\n",
    "#It seems those from the first class that did not survive were pretty spread out acording to fare, but there is a peak\n",
    "#at the very top which may be significant. Below a point, the first class does not seem to survive, so that is a strong\n",
    "#indication. Second class is quite evern butthe peak of survival is slightly higher than the other at higher fares, and\n",
    "#slightly lower at lower fares. As far as class 3, it does not seem to have an effect. There is no point where the \n",
    "#chance of survival is more than the chance to not survive. \n",
    "\n",
    "#Class 3 divisions ->\n",
    "#over 50\n",
    "#50 to 25\n",
    "#25 to 20\n",
    "#15 to 10\n",
    "#10 to 8\n",
    "#under 8\n",
    "\n",
    "#Class 2 divisions ->\n",
    "#over 75\n",
    "#75 to 60\n",
    "#60 to 40\n",
    "#40 to 30\n",
    "#30 to 20\n",
    "#20 to 15\n",
    "#15 to 5\n",
    "#under 5\n",
    "\n",
    "#Class 1 divisions ->\n",
    "#over 120\n",
    "#120 to 100\n",
    "#100 to 80\n",
    "#80 to 70\n",
    "#70 to 50\n",
    "#50 to 25\n",
    "#25 to 20\n",
    "#20 to 15\n",
    "#under 15\n"
   ]
  },
  {
   "cell_type": "code",
   "execution_count": 74,
   "metadata": {},
   "outputs": [],
   "source": [
    "#Class 3 Fare\n",
    "df[\"Class3Fo50\"] =df.apply(lambda x: 1 if (x.Pclass == 3 and x.Fare >= 50) else 0, axis=1)\n",
    "df[\"Class3F5025\"] =df.apply(lambda x: 1 if (x.Pclass == 3 and x.Fare < 50 and x.Fare >= 25) else 0, axis=1)\n",
    "df[\"Class3F2520\"] =df.apply(lambda x: 1 if (x.Pclass == 3 and x.Fare < 25 and x.Fare >= 20) else 0, axis=1)\n",
    "df[\"Class3F2015\"] =df.apply(lambda x: 1 if (x.Pclass == 3 and x.Fare < 20 and x.Fare >= 15) else 0, axis=1)\n",
    "df[\"Class3F1510\"] =df.apply(lambda x: 1 if (x.Pclass == 3 and x.Fare < 15 and x.Fare >= 10) else 0, axis=1)\n",
    "df[\"Class3F108\"] =df.apply(lambda x: 1 if (x.Pclass == 3 and x.Fare < 10 and x.Fare >= 8) else 0, axis=1)\n",
    "df[\"Class3Fu8\"] =df.apply(lambda x: 1 if (x.Pclass == 3 and x.Fare < 8 ) else 0, axis=1)"
   ]
  },
  {
   "cell_type": "code",
   "execution_count": 75,
   "metadata": {},
   "outputs": [],
   "source": [
    "#Class 2 Fare\n",
    "df[\"Class2Fo75\"] =df.apply(lambda x: 1 if (x.Pclass == 2 and x.Fare >= 75) else 0, axis=1)\n",
    "df[\"Class2F7560\"] =df.apply(lambda x: 1 if (x.Pclass == 2 and x.Fare < 75 and x.Fare >= 60) else 0, axis=1)\n",
    "df[\"Class2F6040\"] =df.apply(lambda x: 1 if (x.Pclass == 2 and x.Fare < 60 and x.Fare >= 40) else 0, axis=1)\n",
    "df[\"Class2F4030\"] =df.apply(lambda x: 1 if (x.Pclass == 2 and x.Fare < 40 and x.Fare >= 30) else 0, axis=1)\n",
    "df[\"Class2F3020\"] =df.apply(lambda x: 1 if (x.Pclass == 2 and x.Fare < 30 and x.Fare >= 20) else 0, axis=1)\n",
    "df[\"Class2F2015\"] =df.apply(lambda x: 1 if (x.Pclass == 2 and x.Fare < 20 and x.Fare >= 15) else 0, axis=1)\n",
    "df[\"Class2Fu15\"] =df.apply(lambda x: 1 if (x.Pclass == 2 and x.Fare < 15 ) else 0, axis=1)"
   ]
  },
  {
   "cell_type": "code",
   "execution_count": 76,
   "metadata": {},
   "outputs": [],
   "source": [
    "#Class 1 Fare\n",
    "df[\"Class1Fo120\"] =df.apply(lambda x: 1 if (x.Pclass == 1 and x.Fare >= 120) else 0, axis=1)\n",
    "df[\"Class1F120100\"] =df.apply(lambda x: 1 if (x.Pclass == 1 and x.Fare < 120 and x.Fare >= 100) else 0, axis=1)\n",
    "df[\"Class1F10080\"] =df.apply(lambda x: 1 if (x.Pclass == 1 and x.Fare < 100 and x.Fare >= 80) else 0, axis=1)\n",
    "df[\"Class1F8070\"] =df.apply(lambda x: 1 if (x.Pclass == 1 and x.Fare < 80 and x.Fare >= 70) else 0, axis=1)\n",
    "df[\"Class1F7050\"] =df.apply(lambda x: 1 if (x.Pclass == 1 and x.Fare < 70 and x.Fare >= 50) else 0, axis=1)\n",
    "df[\"Class1F5025\"] =df.apply(lambda x: 1 if (x.Pclass == 1 and x.Fare < 50 and x.Fare >= 25) else 0, axis=1)\n",
    "df[\"Class1F2520\"] =df.apply(lambda x: 1 if (x.Pclass == 1 and x.Fare < 25 and x.Fare >= 20) else 0, axis=1)\n",
    "df[\"Class1F2015\"] =df.apply(lambda x: 1 if (x.Pclass == 1 and x.Fare < 20 and x.Fare >= 15) else 0, axis=1)\n",
    "df[\"Class1Fu15\"] =df.apply(lambda x: 1 if (x.Pclass == 1 and x.Fare < 15 ) else 0, axis=1)"
   ]
  },
  {
   "cell_type": "code",
   "execution_count": 77,
   "metadata": {},
   "outputs": [],
   "source": [
    "#2.11 Combinatory values - Fare and SibSp\n",
    "#From here we arise to an interesting hypothesis, which is if you were and individual with a high fare, it was probably\n",
    "#likely they would find space for you easily, much more easily than finding space for a family. Thus, there are high\n",
    "#indices of survival amongst individuals. For people in larger groups, it is much more even. but there is a greater\n",
    "#survival chance at a higher fare. There is a dip at fare 40 for some reason, perhaps its was a specific point in the \n",
    "#architecture of the ship that was hit early. "
   ]
  },
  {
   "cell_type": "code",
   "execution_count": 78,
   "metadata": {},
   "outputs": [
    {
     "data": {
      "image/png": "[encoded data removed]",
      "text/plain": [
       "<Figure size 432x288 with 1 Axes>"
      ]
     },
     "metadata": {
      "needs_background": "light"
     },
     "output_type": "display_data"
    }
   ],
   "source": [
    "sns.violinplot(x='SibSp', y='Fare', hue='Survived', data=df, split=True, scale='count');"
   ]
  },
  {
   "cell_type": "code",
   "execution_count": 79,
   "metadata": {},
   "outputs": [],
   "source": [
    "#Observations Regarding SibSp and Fare --\n",
    "#Low fares have quite a low chance of survival, probably pertaining to those of low paying class 2 and 1, as well as \n",
    "#class 3 which have quite a little survival chance. However individuals paying standard class 2 or above prices have \n",
    "#a much larger survival chance as shown in the first graph, especially from 20 to 30 and over 50. As far as people with\n",
    "#families go, that is much more dicy. It is faily even with two peaks either side as you would expect, but it seems \n",
    "#this won't be a reliable prediction factor.\n",
    "\n",
    "#SibSp 0 -->\n",
    "#over 60\n",
    "#50 to 60\n",
    "#35 to 50\n",
    "#35 to 30\n",
    "#30 to 15\n",
    "#15 to 5\n",
    "#under 5\n",
    "\n",
    "#SibSp 1->\n",
    "#over 60\n",
    "#60 to 50\n",
    "#50 to 45\n",
    "#45 to 30\n",
    "#30 to 10\n",
    "#under 10"
   ]
  },
  {
   "cell_type": "code",
   "execution_count": 80,
   "metadata": {},
   "outputs": [],
   "source": [
    "#SibSp 0 Fare\n",
    "df[\"Sib0Fo60\"] =df.apply(lambda x: 1 if (x.SibSp == 0 and x.Fare >= 60) else 0, axis=1)\n",
    "df[\"Sib0F6050\"] =df.apply(lambda x: 1 if (x.SibSp == 0 and x.Fare < 60 and x.Fare >= 50) else 0, axis=1)\n",
    "df[\"Sib0F5035\"] =df.apply(lambda x: 1 if (x.SibSp == 0 and x.Fare < 50 and x.Fare >= 35) else 0, axis=1)\n",
    "df[\"Sib0F3530\"] =df.apply(lambda x: 1 if (x.SibSp == 0 and x.Fare < 35 and x.Fare >= 30) else 0, axis=1)\n",
    "df[\"Sib0F3015\"] =df.apply(lambda x: 1 if (x.SibSp == 0 and x.Fare < 30 and x.Fare >= 15) else 0, axis=1)\n",
    "df[\"Sib0F1505\"] =df.apply(lambda x: 1 if (x.SibSp == 0 and x.Fare < 15 and x.Fare >= 5) else 0, axis=1)\n",
    "df[\"Sib0Fu5\"] =df.apply(lambda x: 1 if (x.SibSp == 0 and x.Fare < 5) else 0, axis=1)"
   ]
  },
  {
   "cell_type": "code",
   "execution_count": 81,
   "metadata": {},
   "outputs": [],
   "source": [
    "#SibSp 1 Fare\n",
    "df[\"Sib1Fo60\"] =df.apply(lambda x: 1 if (x.SibSp == 1 and x.Fare >= 60) else 0, axis=1)\n",
    "df[\"Sib1F6050\"] =df.apply(lambda x: 1 if (x.SibSp == 1 and x.Fare < 60 and x.Fare >= 50) else 0, axis=1)\n",
    "df[\"Sib1F5045\"] =df.apply(lambda x: 1 if (x.SibSp == 1 and x.Fare < 50 and x.Fare >= 45) else 0, axis=1)\n",
    "df[\"Sib1F4530\"] =df.apply(lambda x: 1 if (x.SibSp == 1 and x.Fare < 45 and x.Fare >= 30) else 0, axis=1)\n",
    "df[\"Sib1F3010\"] =df.apply(lambda x: 1 if (x.SibSp == 1 and x.Fare < 30 and x.Fare >= 10) else 0, axis=1)\n",
    "df[\"Sib1Fu10\"] =df.apply(lambda x: 1 if (x.SibSp == 1 and x.Fare >= 10) else 0, axis=1)"
   ]
  },
  {
   "cell_type": "code",
   "execution_count": 82,
   "metadata": {},
   "outputs": [
    {
     "data": {
      "text/plain": [
       "Index(['Survived', 'Pclass', 'Sex', 'Age', 'SibSp', 'Fare', 'Embarked',\n",
       "       'Age_One', 'Age_Two', 'Age_Three', 'Age_Four', 'Age_Five', 'Age_Six',\n",
       "       'Age_Seven', 'Age_Eight', 'SibSp_0', 'SibSp_1', 'Womeno60', 'Women6040',\n",
       "       'Women4035', 'Women3520', 'Women2015', 'Women1510', 'Womenu10',\n",
       "       'Meno60', 'Men6040', 'Men4035', 'Men3525', 'Men2520', 'Men2018',\n",
       "       'Men1810', 'Menu10', 'Class3o42', 'Class34225', 'Class32515',\n",
       "       'Class31510', 'Class3u10', 'Class2o60', 'Class26040', 'Class24030',\n",
       "       'Class23025', 'Class22520', 'Class22015', 'Class2u15', 'Class1o70',\n",
       "       'Class17055', 'Class15545', 'Class14535', 'Class13520', 'Class12010',\n",
       "       'Class1u10', 'Class3Fo50', 'Class3F5025', 'Class3F2520', 'Class3F2015',\n",
       "       'Class3F1510', 'Class3F108', 'Class3Fu8', 'Class2Fo75', 'Class2F7560',\n",
       "       'Class2F6040', 'Class2F4030', 'Class2F3020', 'Class2F2015',\n",
       "       'Class2Fu15', 'Class1Fo120', 'Class1F120100', 'Class1F10080',\n",
       "       'Class1F8070', 'Class1F7050', 'Class1F5025', 'Class1F2520',\n",
       "       'Class1F2015', 'Class1Fu15', 'Sib0Fo60', 'Sib0F6050', 'Sib0F5035',\n",
       "       'Sib0F3530', 'Sib0F3015', 'Sib0F1505', 'Sib0Fu5', 'Sib1Fo60',\n",
       "       'Sib1F6050', 'Sib1F5045', 'Sib1F4530', 'Sib1F3010', 'Sib1Fu10'],\n",
       "      dtype='object')"
      ]
     },
     "execution_count": 82,
     "metadata": {},
     "output_type": "execute_result"
    }
   ],
   "source": [
    "df.columns"
   ]
  },
  {
   "cell_type": "code",
   "execution_count": 83,
   "metadata": {},
   "outputs": [],
   "source": [
    "#2.12 Clean up the final parts\n",
    "#Time to drop the relevant columns and export the data to a csv file. It may seems strange to drop all these, \n",
    "#but they have multicorrelation with the combination values, and Embarked strangely lowers our accuracy."
   ]
  },
  {
   "cell_type": "code",
   "execution_count": 84,
   "metadata": {},
   "outputs": [],
   "source": [
    "df = df.drop(\"Age\", axis = 1)\n",
    "df = df.drop(\"Fare\", axis = 1)\n",
    "df = df.drop(\"Pclass\", axis = 1)\n",
    "df = df.drop(\"SibSp\", axis =1)\n",
    "df = df.drop(\"Embarked\", axis = 1)\n",
    "df = df.drop(\"Sex\", axis = 1)"
   ]
  },
  {
   "cell_type": "code",
   "execution_count": 85,
   "metadata": {},
   "outputs": [
    {
     "data": {
      "text/plain": [
       "Index(['Survived', 'Age_One', 'Age_Two', 'Age_Three', 'Age_Four', 'Age_Five',\n",
       "       'Age_Six', 'Age_Seven', 'Age_Eight', 'SibSp_0', 'SibSp_1', 'Womeno60',\n",
       "       'Women6040', 'Women4035', 'Women3520', 'Women2015', 'Women1510',\n",
       "       'Womenu10', 'Meno60', 'Men6040', 'Men4035', 'Men3525', 'Men2520',\n",
       "       'Men2018', 'Men1810', 'Menu10', 'Class3o42', 'Class34225', 'Class32515',\n",
       "       'Class31510', 'Class3u10', 'Class2o60', 'Class26040', 'Class24030',\n",
       "       'Class23025', 'Class22520', 'Class22015', 'Class2u15', 'Class1o70',\n",
       "       'Class17055', 'Class15545', 'Class14535', 'Class13520', 'Class12010',\n",
       "       'Class1u10', 'Class3Fo50', 'Class3F5025', 'Class3F2520', 'Class3F2015',\n",
       "       'Class3F1510', 'Class3F108', 'Class3Fu8', 'Class2Fo75', 'Class2F7560',\n",
       "       'Class2F6040', 'Class2F4030', 'Class2F3020', 'Class2F2015',\n",
       "       'Class2Fu15', 'Class1Fo120', 'Class1F120100', 'Class1F10080',\n",
       "       'Class1F8070', 'Class1F7050', 'Class1F5025', 'Class1F2520',\n",
       "       'Class1F2015', 'Class1Fu15', 'Sib0Fo60', 'Sib0F6050', 'Sib0F5035',\n",
       "       'Sib0F3530', 'Sib0F3015', 'Sib0F1505', 'Sib0Fu5', 'Sib1Fo60',\n",
       "       'Sib1F6050', 'Sib1F5045', 'Sib1F4530', 'Sib1F3010', 'Sib1Fu10'],\n",
       "      dtype='object')"
      ]
     },
     "execution_count": 85,
     "metadata": {},
     "output_type": "execute_result"
    }
   ],
   "source": [
    "df.columns"
   ]
  },
  {
   "cell_type": "code",
   "execution_count": 86,
   "metadata": {},
   "outputs": [],
   "source": [
    "df.to_csv(\"Data/final_cat.csv\")"
   ]
  },
  {
   "cell_type": "code",
   "execution_count": 87,
   "metadata": {},
   "outputs": [],
   "source": [
    "#Part 3 - Modelling\n",
    "#We have finally departed from the main purpose of this notebook and as such, I will keep the following parts brief. \n",
    "#While there is a large process of trial and error that is required for the development of a successful model, be \n",
    "#assured that I have gone through this process elsewhere and this is the model that give sthe best results."
   ]
  },
  {
   "cell_type": "code",
   "execution_count": 88,
   "metadata": {},
   "outputs": [],
   "source": [
    "from sklearn.model_selection import train_test_split, cross_val_score\n",
    "from sklearn import preprocessing\n",
    "from sklearn.linear_model import LinearRegression, LogisticRegression\n",
    "from sklearn.ensemble import RandomForestRegressor\n",
    "from sklearn.metrics import mean_absolute_error, accuracy_score\n",
    "from sklearn.neighbors import KNeighborsClassifier"
   ]
  },
  {
   "cell_type": "code",
   "execution_count": 89,
   "metadata": {},
   "outputs": [],
   "source": [
    "#3.1 Preprocessing data / train-test split\n",
    "\n",
    "scores = []\n",
    "\n",
    "df_cat = pd.read_csv('Data/final_cat.csv')\n",
    "\n",
    "X_cat = df_cat.drop(\"Survived\", axis = 1)\n",
    "y_cat = df_cat.Survived.values\n",
    "\n",
    "X_train_cat, X_test_cat, y_train_cat, y_test_cat = train_test_split(X_cat,y_cat, test_size = 0.4, random_state = 42)\n",
    "\n",
    "X_train_cat = preprocessing.scale(X_train_cat)\n",
    "X_test_cat =  preprocessing.scale(X_test_cat)\n"
   ]
  },
  {
   "cell_type": "code",
   "execution_count": 90,
   "metadata": {},
   "outputs": [],
   "source": [
    "#3.2 Logistic Regression\n",
    "\n",
    "log_cat = LogisticRegression()\n",
    "log_cat.fit(X_train_cat, y_train_cat)\n",
    "\n",
    "mean_val = np.mean(cross_val_score(log_cat, X_train_cat, y_train_cat, scoring = 'neg_mean_absolute_error', cv=100))\n",
    "\n",
    "scores.append([\"log_cat\", mean_val])"
   ]
  },
  {
   "cell_type": "code",
   "execution_count": 91,
   "metadata": {},
   "outputs": [],
   "source": [
    "#3.3 Random Forest Categorical Regressor\n",
    "\n",
    "rf_cat = RandomForestRegressor(n_estimators=100)\n",
    "rf_cat.fit(X_train_cat, y_train_cat)\n",
    "mean_val = np.mean(cross_val_score(rf_cat, X_train_cat, y_train_cat, scoring = 'neg_mean_absolute_error', cv=3))\n",
    "\n",
    "scores.append([\"forest_cat\", mean_val])"
   ]
  },
  {
   "cell_type": "code",
   "execution_count": 92,
   "metadata": {},
   "outputs": [],
   "source": [
    "#3.5 Knearest Neightbours Classifier\n",
    "knn_cat = KNeighborsClassifier(n_neighbors=3)\n",
    "knn_cat.fit(X_train_cat, y_train_cat)\n",
    "mean_val = np.mean(cross_val_score(knn_cat, X_train_cat, y_train_cat, scoring = 'neg_mean_absolute_error', cv=3))\n",
    "\n",
    "scores.append([\"knn_cat\", mean_val])"
   ]
  },
  {
   "cell_type": "code",
   "execution_count": 93,
   "metadata": {},
   "outputs": [
    {
     "data": {
      "text/plain": [
       "[['log_cat', -0.18333333333333332],\n",
       " ['forest_cat', -0.27728464419475657],\n",
       " ['knn_cat', -0.2565543071161049]]"
      ]
     },
     "execution_count": 93,
     "metadata": {},
     "output_type": "execute_result"
    }
   ],
   "source": [
    "#3.6 Scoring\n",
    "#Here you can see the scores. A you can see they all underestimate the chances of survival which is quite interesting.\n",
    "#Perhaps it is best to try to create on which overestimates if I were to come back to this, as it may even out the \n",
    "#numbers and get an overall better results\n",
    "scores"
   ]
  },
  {
   "cell_type": "code",
   "execution_count": 94,
   "metadata": {},
   "outputs": [],
   "source": [
    "#3.7 Combining the estimators\n",
    "\n",
    "pred_log_cat = log_cat.predict(X_test_cat)\n",
    "pred_rf_cat = rf_cat.predict(X_test_cat)\n",
    "pred_knn_cat = knn_cat.predict(X_test_cat)\n",
    "\n",
    "temp = []\n",
    "for i in pred_rf_cat: \n",
    "    if i >= 0.5:\n",
    "        temp.append(1)\n",
    "    else:\n",
    "        temp.append(0)\n",
    "pred_rf_cat = temp\n",
    "temp = []"
   ]
  },
  {
   "cell_type": "code",
   "execution_count": 95,
   "metadata": {},
   "outputs": [],
   "source": [
    "#3.8 Final Scoring\n",
    "#Here are the results for every individual classifier, as well as the classifier combined. The individual scores as \n",
    "#less accurate than the final classifier, which is the ideal scenario. The final accuracy is about 82% which is quite \n",
    "#good for simple binning and categorization, which concludes this notebook in a fantastic success. "
   ]
  },
  {
   "cell_type": "code",
   "execution_count": 96,
   "metadata": {},
   "outputs": [
    {
     "data": {
      "text/plain": [
       "0.8179271708683473"
      ]
     },
     "execution_count": 96,
     "metadata": {},
     "output_type": "execute_result"
    }
   ],
   "source": [
    "#Accuracy Logistic Regression\n",
    "accuracy_score(y_test_cat,pred_log_cat)"
   ]
  },
  {
   "cell_type": "code",
   "execution_count": 97,
   "metadata": {},
   "outputs": [
    {
     "data": {
      "text/plain": [
       "0.7983193277310925"
      ]
     },
     "execution_count": 97,
     "metadata": {},
     "output_type": "execute_result"
    }
   ],
   "source": [
    "#Accuracy Random Forest Categorical Regressor\n",
    "accuracy_score(y_test_cat,pred_rf_cat)"
   ]
  },
  {
   "cell_type": "code",
   "execution_count": 98,
   "metadata": {},
   "outputs": [
    {
     "data": {
      "text/plain": [
       "0.7478991596638656"
      ]
     },
     "execution_count": 98,
     "metadata": {},
     "output_type": "execute_result"
    }
   ],
   "source": [
    "#Accuracy Knearest Neightbours Classifier\n",
    "accuracy_score(y_test_cat,pred_knn_cat)"
   ]
  },
  {
   "cell_type": "code",
   "execution_count": 99,
   "metadata": {},
   "outputs": [],
   "source": [
    "join_cat = []\n",
    "\n",
    "for i in range(len(pred_log_cat)): \n",
    "    value = pred_log_cat[i] + pred_rf_cat[i] + pred_knn_cat[i]\n",
    "    value = value/3\n",
    "    join_cat.append(value)\n",
    "    \n",
    "temp = []\n",
    "for i in join_cat: \n",
    "    if i >= 0.5:\n",
    "        temp.append(1)\n",
    "    else:\n",
    "        temp.append(0)\n",
    "join_cat = temp\n",
    "temp = []\n",
    "    "
   ]
  },
  {
   "cell_type": "code",
   "execution_count": 100,
   "metadata": {},
   "outputs": [
    {
     "data": {
      "text/plain": [
       "0.8291316526610645"
      ]
     },
     "execution_count": 100,
     "metadata": {},
     "output_type": "execute_result"
    }
   ],
   "source": [
    "#Final Accuracy\n",
    "accuracy_score(y_test_cat,join_cat)"
   ]
  },
  {
   "cell_type": "code",
   "execution_count": 101,
   "metadata": {},
   "outputs": [
    {
     "data": {
      "text/plain": [
       "296"
      ]
     },
     "execution_count": 101,
     "metadata": {},
     "output_type": "execute_result"
    }
   ],
   "source": [
    "#Number of correctly clasified data points\n",
    "accuracy_score(y_test_cat,join_cat,  normalize = False)"
   ]
  },
  {
   "cell_type": "code",
   "execution_count": 102,
   "metadata": {},
   "outputs": [],
   "source": [
    "#END"
   ]
  }
 ],
 "metadata": {
  "kernelspec": {
   "display_name": "Python 3",
   "language": "python",
   "name": "python3"
  },
  "language_info": {
   "codemirror_mode": {
    "name": "ipython",
    "version": 3
   },
   "file_extension": ".py",
   "mimetype": "text/x-python",
   "name": "python",
   "nbconvert_exporter": "python",
   "pygments_lexer": "ipython3",
   "version": "3.8.3"
  }
 },
 "nbformat": 4,
 "nbformat_minor": 4
}
